{
 "cells": [
  {
   "cell_type": "markdown",
   "id": "27c4a07d-9d26-478b-b801-782353b6ae3f",
   "metadata": {},
   "source": [
    "## 6. Dice Game (PIG)"
   ]
  },
  {
   "cell_type": "markdown",
   "id": "91037d1e-01b5-4195-8bc3-d6816c81b8d2",
   "metadata": {},
   "source": [
    "#### Try !!! "
   ]
  },
  {
   "cell_type": "code",
   "execution_count": 10,
   "id": "2b6138c7-d5db-4a95-b36a-00e08d49ad68",
   "metadata": {},
   "outputs": [
    {
     "name": "stdout",
     "output_type": "stream",
     "text": [
      "Welcome to the Game !!!\n",
      "\n"
     ]
    },
    {
     "name": "stdin",
     "output_type": "stream",
     "text": [
      "Enter the no. of players (2-4):  3\n",
      "Enter the winning score:  25\n"
     ]
    },
    {
     "name": "stdout",
     "output_type": "stream",
     "text": [
      "\n",
      "Player 1's turn.\n",
      "You scored 0 points before, try to win the remaining.\n",
      "\n"
     ]
    },
    {
     "name": "stdin",
     "output_type": "stream",
     "text": [
      "Ready to roll a Dice (y/n):  y\n"
     ]
    },
    {
     "name": "stdout",
     "output_type": "stream",
     "text": [
      "You rolled a ,6\n",
      "Your current score: 6\n"
     ]
    },
    {
     "name": "stdin",
     "output_type": "stream",
     "text": [
      "Ready to roll a Dice (y/n):  y\n"
     ]
    },
    {
     "name": "stdout",
     "output_type": "stream",
     "text": [
      "You rolled a ,3\n",
      "Your current score: 9\n"
     ]
    },
    {
     "name": "stdin",
     "output_type": "stream",
     "text": [
      "Ready to roll a Dice (y/n):  y\n"
     ]
    },
    {
     "name": "stdout",
     "output_type": "stream",
     "text": [
      "You rolled a ,3\n",
      "Your current score: 12\n"
     ]
    },
    {
     "name": "stdin",
     "output_type": "stream",
     "text": [
      "Ready to roll a Dice (y/n):  y\n"
     ]
    },
    {
     "name": "stdout",
     "output_type": "stream",
     "text": [
      "You rolled a ,5\n",
      "Your current score: 17\n"
     ]
    },
    {
     "name": "stdin",
     "output_type": "stream",
     "text": [
      "Ready to roll a Dice (y/n):  y\n"
     ]
    },
    {
     "name": "stdout",
     "output_type": "stream",
     "text": [
      "You rolled a ,5\n",
      "Your current score: 22\n"
     ]
    },
    {
     "name": "stdin",
     "output_type": "stream",
     "text": [
      "Ready to roll a Dice (y/n):  n\n"
     ]
    },
    {
     "name": "stdout",
     "output_type": "stream",
     "text": [
      "\n",
      "Player 1 scored 22 points.\n",
      "Total points: 22\n",
      "\n",
      "Player 2's turn.\n",
      "You scored 0 points before, try to win the remaining.\n",
      "\n"
     ]
    },
    {
     "name": "stdin",
     "output_type": "stream",
     "text": [
      "Ready to roll a Dice (y/n):  y\n"
     ]
    },
    {
     "name": "stdout",
     "output_type": "stream",
     "text": [
      "You rolled a ,2\n",
      "Your current score: 2\n"
     ]
    },
    {
     "name": "stdin",
     "output_type": "stream",
     "text": [
      "Ready to roll a Dice (y/n):  y\n"
     ]
    },
    {
     "name": "stdout",
     "output_type": "stream",
     "text": [
      "You rolled a ,2\n",
      "Your current score: 4\n"
     ]
    },
    {
     "name": "stdin",
     "output_type": "stream",
     "text": [
      "Ready to roll a Dice (y/n):  y\n"
     ]
    },
    {
     "name": "stdout",
     "output_type": "stream",
     "text": [
      "You rolled a ,5\n",
      "Your current score: 9\n"
     ]
    },
    {
     "name": "stdin",
     "output_type": "stream",
     "text": [
      "Ready to roll a Dice (y/n):  y\n"
     ]
    },
    {
     "name": "stdout",
     "output_type": "stream",
     "text": [
      "You rolled a ,4\n",
      "Your current score: 13\n"
     ]
    },
    {
     "name": "stdin",
     "output_type": "stream",
     "text": [
      "Ready to roll a Dice (y/n):  y\n"
     ]
    },
    {
     "name": "stdout",
     "output_type": "stream",
     "text": [
      "You rolled a ,4\n",
      "Your current score: 17\n"
     ]
    },
    {
     "name": "stdin",
     "output_type": "stream",
     "text": [
      "Ready to roll a Dice (y/n):  n\n"
     ]
    },
    {
     "name": "stdout",
     "output_type": "stream",
     "text": [
      "\n",
      "Player 2 scored 17 points.\n",
      "Total points: 17\n",
      "\n",
      "Player 3's turn.\n",
      "You scored 0 points before, try to win the remaining.\n",
      "\n"
     ]
    },
    {
     "name": "stdin",
     "output_type": "stream",
     "text": [
      "Ready to roll a Dice (y/n):  y\n"
     ]
    },
    {
     "name": "stdout",
     "output_type": "stream",
     "text": [
      "You rolled a ,4\n",
      "Your current score: 4\n"
     ]
    },
    {
     "name": "stdin",
     "output_type": "stream",
     "text": [
      "Ready to roll a Dice (y/n):  y\n"
     ]
    },
    {
     "name": "stdout",
     "output_type": "stream",
     "text": [
      "You rolled a ,4\n",
      "Your current score: 8\n"
     ]
    },
    {
     "name": "stdin",
     "output_type": "stream",
     "text": [
      "Ready to roll a Dice (y/n):  y\n"
     ]
    },
    {
     "name": "stdout",
     "output_type": "stream",
     "text": [
      "You rolled a ,2\n",
      "Your current score: 10\n"
     ]
    },
    {
     "name": "stdin",
     "output_type": "stream",
     "text": [
      "Ready to roll a Dice (y/n):  y\n"
     ]
    },
    {
     "name": "stdout",
     "output_type": "stream",
     "text": [
      "You rolled a ,3\n",
      "Your current score: 13\n"
     ]
    },
    {
     "name": "stdin",
     "output_type": "stream",
     "text": [
      "Ready to roll a Dice (y/n):  y\n"
     ]
    },
    {
     "name": "stdout",
     "output_type": "stream",
     "text": [
      "You rolled a ,1\n",
      "Try again, in your next turn\n",
      "\n",
      "Player 3 scored 0 points.\n",
      "Total points: 0\n",
      "\n",
      "Player 1's turn.\n",
      "You scored 22 points before, try to win the remaining.\n",
      "\n"
     ]
    },
    {
     "name": "stdin",
     "output_type": "stream",
     "text": [
      "Ready to roll a Dice (y/n):  y\n"
     ]
    },
    {
     "name": "stdout",
     "output_type": "stream",
     "text": [
      "You rolled a ,3\n",
      "Your current score: 3\n"
     ]
    },
    {
     "name": "stdin",
     "output_type": "stream",
     "text": [
      "Ready to roll a Dice (y/n):  y\n"
     ]
    },
    {
     "name": "stdout",
     "output_type": "stream",
     "text": [
      "You rolled a ,6\n",
      "Your current score: 9\n"
     ]
    },
    {
     "name": "stdin",
     "output_type": "stream",
     "text": [
      "Ready to roll a Dice (y/n):  y\n"
     ]
    },
    {
     "name": "stdout",
     "output_type": "stream",
     "text": [
      "You rolled a ,1\n",
      "Try again, in your next turn\n",
      "\n",
      "Player 1 scored 0 points.\n",
      "Total points: 22\n",
      "\n",
      "Player 2's turn.\n",
      "You scored 17 points before, try to win the remaining.\n",
      "\n"
     ]
    },
    {
     "name": "stdin",
     "output_type": "stream",
     "text": [
      "Ready to roll a Dice (y/n):  y\n"
     ]
    },
    {
     "name": "stdout",
     "output_type": "stream",
     "text": [
      "You rolled a ,5\n",
      "Your current score: 5\n"
     ]
    },
    {
     "name": "stdin",
     "output_type": "stream",
     "text": [
      "Ready to roll a Dice (y/n):  y\n"
     ]
    },
    {
     "name": "stdout",
     "output_type": "stream",
     "text": [
      "You rolled a ,3\n",
      "Your current score: 8\n"
     ]
    },
    {
     "name": "stdin",
     "output_type": "stream",
     "text": [
      "Ready to roll a Dice (y/n):  n\n"
     ]
    },
    {
     "name": "stdout",
     "output_type": "stream",
     "text": [
      "\n",
      "Player 2 scored 8 points.\n",
      "Total points: 25\n",
      "\n",
      "Player 3's turn.\n",
      "You scored 0 points before, try to win the remaining.\n",
      "\n"
     ]
    },
    {
     "name": "stdin",
     "output_type": "stream",
     "text": [
      "Ready to roll a Dice (y/n):  y\n"
     ]
    },
    {
     "name": "stdout",
     "output_type": "stream",
     "text": [
      "You rolled a ,3\n",
      "Your current score: 3\n"
     ]
    },
    {
     "name": "stdin",
     "output_type": "stream",
     "text": [
      "Ready to roll a Dice (y/n):  y\n"
     ]
    },
    {
     "name": "stdout",
     "output_type": "stream",
     "text": [
      "You rolled a ,2\n",
      "Your current score: 5\n"
     ]
    },
    {
     "name": "stdin",
     "output_type": "stream",
     "text": [
      "Ready to roll a Dice (y/n):  y\n"
     ]
    },
    {
     "name": "stdout",
     "output_type": "stream",
     "text": [
      "You rolled a ,3\n",
      "Your current score: 8\n"
     ]
    },
    {
     "name": "stdin",
     "output_type": "stream",
     "text": [
      "Ready to roll a Dice (y/n):  y\n"
     ]
    },
    {
     "name": "stdout",
     "output_type": "stream",
     "text": [
      "You rolled a ,3\n",
      "Your current score: 11\n"
     ]
    },
    {
     "name": "stdin",
     "output_type": "stream",
     "text": [
      "Ready to roll a Dice (y/n):  y\n"
     ]
    },
    {
     "name": "stdout",
     "output_type": "stream",
     "text": [
      "You rolled a ,1\n",
      "Try again, in your next turn\n",
      "\n",
      "Player 3 scored 0 points.\n",
      "Total points: 0\n",
      "\n",
      "The WINNER is Player 2.\n"
     ]
    }
   ],
   "source": [
    "import random\n",
    "\n",
    "print(\"Welcome to the Game !!!\\n\")\n",
    "\n",
    "while True:\n",
    "    players = 0\n",
    "    max_sco = 0\n",
    "    try:\n",
    "        players = int(input(\"Enter the no. of players (2-4): \"))\n",
    "        if players >= 2 and players <=4:\n",
    "            pass\n",
    "        else:\n",
    "            print(\"Enter a valid no.\")\n",
    "            continue\n",
    "        max_sco = int(input(\"Enter the winning score: \"))\n",
    "        break\n",
    "    except ValueError:\n",
    "        print(\"Enter a valid no.\")\n",
    "        \n",
    "            \n",
    "listsco = [0 for _ in range(players)]                  # '_' since we don't want the variable.\n",
    "\n",
    "while max(listsco) < max_sco:                          # eventhough one of the score hits, all players turns must finish.\n",
    "    for i in  range (players):\n",
    "        score = 0\n",
    "        print(f\"\\nPlayer {i+1}'s turn.\")\n",
    "        print(f\"You scored {listsco[i]} points before, try to win the remaining.\\n\")\n",
    "        while True:\n",
    "            opt = input(\"Ready to roll a Dice (y/n): \").lower().strip()\n",
    "            if opt == 'n':\n",
    "                break\n",
    "            elif opt != 'y':\n",
    "                print(\"Enter a valid option.\")\n",
    "                continue\n",
    "            # else: pass  not necessary\n",
    "            value = random.randint(1,6)\n",
    "            print(f\"You rolled a ,{value}\")\n",
    "            if value != 1:\n",
    "                score += value\n",
    "            else:\n",
    "                print(\"Try again, in your next turn\")\n",
    "                score = 0\n",
    "                break\n",
    "            print(f\"Your current score: {score}\")    \n",
    "        listsco[i] += score \n",
    "        print(f\"\\nPlayer {i+1} scored {score} points.\")                 \n",
    "        print(f\"Total points: {listsco[i]}\")\n",
    "\n",
    "        # use if-else statement to break the first while loop, to pick the first player who scored the max_sco. \n",
    "        # the loop should be either the same or while True: .\n",
    "        \n",
    "    '''if listsco[i] >= max_sco:  \n",
    "            print(f\"\\nThe WINNER is Player {i + 1} with {listsco[i]} points!\")\n",
    "            break  \n",
    "        else:\n",
    "            continue''' \n",
    "        \n",
    "print(f\"\\nThe WINNER is Player {listsco.index(max(listsco))+1}.\")"
   ]
  },
  {
   "cell_type": "markdown",
   "id": "b4976dc1-9d90-4fcf-ab96-9b14075541f4",
   "metadata": {},
   "source": [
    "#### ----- THANK YOU -----     \n",
    "DATE : 20 DEC 2024"
   ]
  }
 ],
 "metadata": {
  "kernelspec": {
   "display_name": "Python 3 (ipykernel)",
   "language": "python",
   "name": "python3"
  },
  "language_info": {
   "codemirror_mode": {
    "name": "ipython",
    "version": 3
   },
   "file_extension": ".py",
   "mimetype": "text/x-python",
   "name": "python",
   "nbconvert_exporter": "python",
   "pygments_lexer": "ipython3",
   "version": "3.11.3"
  }
 },
 "nbformat": 4,
 "nbformat_minor": 5
}
