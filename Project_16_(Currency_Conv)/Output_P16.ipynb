{
 "cells": [
  {
   "cell_type": "markdown",
   "id": "c30400d6-7d8f-424a-9345-7a028c499561",
   "metadata": {},
   "source": [
    "### Output:"
   ]
  },
  {
   "cell_type": "raw",
   "id": "fdb7aa86-3449-4cf7-9028-a0f7a44422d2",
   "metadata": {},
   "source": [
    "<pre>\n",
    "Welcome to the currency converter!\n",
    "List - lists the different currencies\n",
    "Convert - convert from one currency to another\n",
    "Rate - get the exchange rate of two currencies\n",
    "\n",
    "Enter a command (q to quit):  LIST\n",
    "1. UAE Dirham - AED.\n",
    "2. Afghan Afghani - AFN.\n",
    "3. Albanian Lek - ALL.\n",
    "4. Armenian Dram - AMD.\n",
    "5. Netherlands Antillian Guilder - ANG.\n",
    "6. Angolan Kwanza - AOA.\n",
    "7. Argentine Peso - ARS.\n",
    "8. Australian Dollar - AUD.\n",
    "9. Aruban Florin - AWG.\n",
    "10. Azerbaijani Manat - AZN.\n",
    "11. Bosnia and Herzegovina Convertible Mark - BAM.\n",
    "12. Barbados Dollar - BBD.\n",
    "13. Bangladeshi Taka - BDT.\n",
    "14. Bulgarian Lev - BGN.\n",
    "15. Bahraini Dinar - BHD.\n",
    "16. Burundian Franc - BIF.\n",
    "17. Bermudian Dollar - BMD.\n",
    "18. Brunei Dollar - BND.\n",
    "19. Bolivian Boliviano - BOB.\n",
    "20. Brazilian Real - BRL.\n",
    "21. Bahamian Dollar - BSD.\n",
    "22. Bhutanese Ngultrum - BTN.\n",
    "23. Botswana Pula - BWP.\n",
    "24. Belarusian Ruble - BYN.\n",
    "25. Belize Dollar - BZD.\n",
    "...\n",
    "160. South African Rand - ZAR.\n",
    "161. Zambian Kwacha - ZMW.\n",
    "162. Zimbabwean Dollar - ZWL.\n",
    "-----------------------------------------------------------------\n",
    "Enter a command (q to quit):  RATE\n",
    "Enter a base currency code:  USD\n",
    "Enter a currency code to convert to:  INR\n",
    "USD --> INR = 85.3603.\n",
    "Enter a command (q to quit):  CONVERT\n",
    "Enter a base currency code:  USD\n",
    "Enter an amount in USD:  50\n",
    "Enter a currency code to convert to:  INR\n",
    "50 USD = 4268.015 INR.\n",
    "Enter a command (q to quit):  Q",
    "</pre>"
   ]
  },
  {
   "cell_type": "markdown",
   "id": "83e4fa26-5a61-430d-a338-276e475609c6",
   "metadata": {},
   "source": [
    "## To show a diff output:"
   ]
  },
  {
   "cell_type": "raw",
   "id": "ca009913-58d6-4486-89ab-308862ca047c",
   "metadata": {},
   "source": [
    "<pre>\n",
    "Welcome to the currency converter!\n",
    "List - lists the different currencies\n",
    "Convert - convert from one currency to another\n",
    "Rate - get the exchange rate of two currencies\n",
    "\n",
    "Enter a command (q to quit):  XXX\n",
    "Unrecognized command!\n",
    "Enter a command (q to quit):  RATE\n",
    "Enter a base currency code:  ABC\n",
    "Enter a currency code to convert to:  INR\n",
    "Invalid Currency.\n",
    "Enter a command (q to quit):  CONVERT\n",
    "Enter a base currency code:  INR\n",
    "Enter an amount in INR:  ABC\n",
    "Enter a currency code to convert to:  USD\n",
    "Invalid Currency/Amount.\n",
    "Enter a command (q to quit):  Q",
    "</pre>"
   ]
  },
  {
   "cell_type": "markdown",
   "id": "bbff8420-47bf-43a1-a9c1-bf7393a821cb",
   "metadata": {},
   "source": [
    "#### ----- THANK YOU -----     \n",
    "DATE : 28 DEC 2024"
   ]
  }
 ],
 "metadata": {
  "kernelspec": {
   "display_name": "Python 3 (ipykernel)",
   "language": "python",
   "name": "python3"
  },
  "language_info": {
   "codemirror_mode": {
    "name": "ipython",
    "version": 3
   },
   "file_extension": ".py",
   "mimetype": "text/x-python",
   "name": "python",
   "nbconvert_exporter": "python",
   "pygments_lexer": "ipython3",
   "version": "3.11.3"
  }
 },
 "nbformat": 4,
 "nbformat_minor": 5
}
