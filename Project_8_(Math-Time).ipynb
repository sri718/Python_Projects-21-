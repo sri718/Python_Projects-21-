{
 "cells": [
  {
   "cell_type": "markdown",
   "id": "4e74e84c-2218-45c7-bdfc-a6db0ae38c36",
   "metadata": {},
   "source": [
    "## 8. Timed Math:"
   ]
  },
  {
   "cell_type": "markdown",
   "id": "18827cf8-cb8b-4d50-9f48-d25b84ec7b8b",
   "metadata": {},
   "source": [
    "#### As Per Video !!!"
   ]
  },
  {
   "cell_type": "code",
   "execution_count": 17,
   "id": "f3adfaae-f825-4cf9-906a-39e00e098a44",
   "metadata": {},
   "outputs": [
    {
     "name": "stdin",
     "output_type": "stream",
     "text": [
      "Press ENTER to Start \n"
     ]
    },
    {
     "name": "stdout",
     "output_type": "stream",
     "text": [
      "--------------------------\n"
     ]
    },
    {
     "name": "stdin",
     "output_type": "stream",
     "text": [
      "Problem #1: 1 + 2 =  3\n",
      "Problem #2: 7 * 6 =  42\n",
      "Problem #3: 2 * 1 =  2\n",
      "Problem #4: 6 + 4 =  10\n",
      "Problem #5: 5 * 2 =  10\n",
      "Problem #6: 9 * 5 =  45\n",
      "Problem #7: 6 + 10 =  16\n",
      "Problem #8: 5 + 9 =  14\n",
      "Problem #9: 1 + 8 =  9\n",
      "Problem #10: 1 * 4 =  5\n"
     ]
    },
    {
     "name": "stdout",
     "output_type": "stream",
     "text": [
      "Try Again!!!\n"
     ]
    },
    {
     "name": "stdin",
     "output_type": "stream",
     "text": [
      "Problem #10: 1 * 4 =  4\n"
     ]
    },
    {
     "name": "stdout",
     "output_type": "stream",
     "text": [
      "--------------------------\n",
      "Completed in 21.12 secs.\n"
     ]
    }
   ],
   "source": [
    "import random\n",
    "import time\n",
    "\n",
    "OPE = ['+','-','*']                        # const variables.\n",
    "MIN = 1\n",
    "MAX = 10\n",
    "TOTAL_QNS = 10\n",
    "\n",
    "def prob():\n",
    "    num1 = random.randint(MIN,MAX)\n",
    "    num2 = random.randint(MIN,MAX)    \n",
    "    oper = random.choice(OPE)\n",
    "    exp = f\"{num1} {oper} {num2}\"\n",
    "    ans = eval(exp)\n",
    "    return exp, ans\n",
    "\n",
    "input(\"Press ENTER to Start\")\n",
    "print(\"--------------------------\")\n",
    "stime= time.time()\n",
    "\n",
    "for i in range(TOTAL_QNS):\n",
    "    exp,ans = prob()\n",
    "    while True:\n",
    "        sol = input(f\"Problem #{i+1}: {exp} = \")\n",
    "        if sol == str(ans):\n",
    "            break\n",
    "        else:\n",
    "            print(\"Try Again!!!\")\n",
    "            \n",
    "etime = time.time()\n",
    "print(\"--------------------------\")\n",
    "time = round(etime-stime,2)\n",
    "print(f\"Completed in {time} secs.\")\n"
   ]
  },
  {
   "cell_type": "markdown",
   "id": "1c7d5971-46e4-497e-87c6-c499672c6132",
   "metadata": {},
   "source": [
    "#### ----- THANK YOU -----     \n",
    "DATE : 21 DEC 2024"
   ]
  }
 ],
 "metadata": {
  "kernelspec": {
   "display_name": "Python 3 (ipykernel)",
   "language": "python",
   "name": "python3"
  },
  "language_info": {
   "codemirror_mode": {
    "name": "ipython",
    "version": 3
   },
   "file_extension": ".py",
   "mimetype": "text/x-python",
   "name": "python",
   "nbconvert_exporter": "python",
   "pygments_lexer": "ipython3",
   "version": "3.11.3"
  }
 },
 "nbformat": 4,
 "nbformat_minor": 5
}
