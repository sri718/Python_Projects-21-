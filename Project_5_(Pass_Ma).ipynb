{
 "cells": [
  {
   "cell_type": "markdown",
   "id": "a3ab730a-f3bf-49a6-9af0-8f8a87fd7189",
   "metadata": {},
   "source": [
    "## 5. Password Manager :"
   ]
  },
  {
   "cell_type": "markdown",
   "id": "2d3d3ae5-94ca-409e-a015-f4aad0395439",
   "metadata": {},
   "source": [
    "#### TRY !!!"
   ]
  },
  {
   "cell_type": "code",
   "execution_count": 70,
   "id": "bca38af4-7751-4c03-be39-83c0f5a968f0",
   "metadata": {},
   "outputs": [
    {
     "name": "stdin",
     "output_type": "stream",
     "text": [
      "Enter a password:  Hello@123\n",
      "Enter a mode (add/view a password) and 'q' to quit:  add\n",
      "Enter the name:  Abc\n",
      "Enter the password:  12345\n",
      "Enter a mode (add/view a password) and 'q' to quit:  add\n",
      "Enter the name:  XXX\n",
      "Enter the password:  Hi@123\n",
      "Enter a mode (add/view a password) and 'q' to quit:  view\n"
     ]
    },
    {
     "name": "stdout",
     "output_type": "stream",
     "text": [
      "User: Abc, Password: 12345.\n",
      "User: XXX, Password: Hi@123.\n"
     ]
    },
    {
     "name": "stdin",
     "output_type": "stream",
     "text": [
      "Enter a mode (add/view a password) and 'q' to quit:  hello\n"
     ]
    },
    {
     "name": "stdout",
     "output_type": "stream",
     "text": [
      "Enter a valid option.\n"
     ]
    },
    {
     "name": "stdin",
     "output_type": "stream",
     "text": [
      "Enter a mode (add/view a password) and 'q' to quit:  q\n"
     ]
    }
   ],
   "source": [
    "from cryptography.fernet import Fernet\n",
    "\n",
    "def lorw_key():                                               # 'key.key' file is created.\n",
    "    try:\n",
    "        with open(\"key_P5.key\",'rb') as kf:\n",
    "            key = kf.read()                                          \n",
    "        return key\n",
    "    except FileNotFoundError:\n",
    "        key = Fernet.generate_key()\n",
    "        with open(\"key_P5.key\",'wb') as kf:\n",
    "            kf.write(key)\n",
    "        return key \n",
    "\n",
    "mapass = input(\"Enter a password: \")\n",
    "\n",
    "k=lorw_key()\n",
    "key = Fernet(k)\n",
    "\n",
    "def add():\n",
    "    name = input(\"Enter the name: \")\n",
    "    passw = input(\"Enter the password: \")\n",
    "    with open(\"Passwords_P5.txt\",'a') as f:\n",
    "        f.write(f\"{name} - {key.encrypt(passw.encode()).decode()}\\n\")\n",
    "        # f.write(f\"{name}-{key.encrypt(passw.encode()).decode()}\\n\")  \n",
    "        # the ENCRYPTED data may have '-'\n",
    "        # .enocde() to give byte input to .encrypt() and.decode() to store it as string.\n",
    "        # while righting the data to file it will convert to string(also the BYTES),\n",
    "        # so bytes can't be resued unless it is .encode() again, like in view()\n",
    "def view():\n",
    "    with open(\"Passwords_P5.txt\",\"r\") as f:\n",
    "        lines = f.readlines()\n",
    "        for line in lines:\n",
    "            user, passwd = line.rstrip().split(\" - \")\n",
    "            print(f\"User: {user}, Password: {key.decrypt(passwd.encode()).decode()}.\")\n",
    "            \n",
    "if mapass == \"Hello@123\":\n",
    "    while True:\n",
    "        mode = input(\"Enter a mode (add/view a password) and 'q' to quit: \").lower().strip()\n",
    "        if mode == 'q':\n",
    "            break\n",
    "        elif mode == 'add':\n",
    "            add()\n",
    "        elif mode == 'view':\n",
    "            view()\n",
    "        else:\n",
    "            print(\"Enter a valid option.\")\n",
    "else:\n",
    "    print(\"Wrong Password !!!\")"
   ]
  },
  {
   "cell_type": "markdown",
   "id": "5114420c-e43e-478e-91e5-c6bb26088e7d",
   "metadata": {},
   "source": [
    "#### SOOOOOOOOOOO :\n",
    "First 'key.key' file is created if not exist.  \n",
    "Don't edit it, or you can't decrypt the previously encrypted data.  \n",
    "  \n",
    "While you open the 'Passwords_P5.txt' you can't directly view the passwords, you can only see the encrypted one.  \n",
    "Which is safe.  \n",
    "\n",
    "Passwords_P5.txt :  \n",
    "  \n",
    "Abc - gAAAAABnZYnZFifu6GrBR8vNq4bA6LsJZljEBKZv41K9FO0rhpTtHCPOj_i8ogkEtE3I_dyP_3vsdBDC1c_bEeT4Jx8hgZoRxQ==  \n",
    "XXX - gAAAAABnZYnjXhhZ5qhOafP_IIkALoLZ-IcCYZ4E1aD-pX5FUKnpJDk7ADyGmWvBDVDgbt2o6gBbGWZX1iuwEGGEuFh-XMOlkg==  \n",
    "\n",
    "  "
   ]
  },
  {
   "cell_type": "markdown",
   "id": "3a1e7566-5352-4661-898b-277cfa012c8b",
   "metadata": {},
   "source": [
    "#### ----- THANK YOU -----     \n",
    "DATE : 20 DEC 2024"
   ]
  }
 ],
 "metadata": {
  "kernelspec": {
   "display_name": "Python 3 (ipykernel)",
   "language": "python",
   "name": "python3"
  },
  "language_info": {
   "codemirror_mode": {
    "name": "ipython",
    "version": 3
   },
   "file_extension": ".py",
   "mimetype": "text/x-python",
   "name": "python",
   "nbconvert_exporter": "python",
   "pygments_lexer": "ipython3",
   "version": "3.11.3"
  }
 },
 "nbformat": 4,
 "nbformat_minor": 5
}
