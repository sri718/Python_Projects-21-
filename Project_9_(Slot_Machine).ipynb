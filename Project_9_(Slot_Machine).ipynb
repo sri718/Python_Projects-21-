{
 "cells": [
  {
   "cell_type": "markdown",
   "id": "4e74e84c-2218-45c7-bdfc-a6db0ae38c36",
   "metadata": {},
   "source": [
    "## 9. Slot Machine:"
   ]
  },
  {
   "cell_type": "markdown",
   "id": "18827cf8-cb8b-4d50-9f48-d25b84ec7b8b",
   "metadata": {},
   "source": [
    "#### As Per Video !!!"
   ]
  },
  {
   "cell_type": "code",
   "execution_count": 87,
   "id": "f3adfaae-f825-4cf9-906a-39e00e098a44",
   "metadata": {},
   "outputs": [
    {
     "name": "stdout",
     "output_type": "stream",
     "text": [
      "Welcome to THE GAME\n",
      "\n"
     ]
    },
    {
     "name": "stdin",
     "output_type": "stream",
     "text": [
      "Enter an amount to deposit $ 100\n",
      "\n",
      "Press ENTER to play (q to quit):  \n",
      "Enter the no. of lines to bet (1-3):  3\n",
      "Enter an amount to bet on each line $ 10\n"
     ]
    },
    {
     "name": "stdout",
     "output_type": "stream",
     "text": [
      "\n",
      "Your total bet on 3 lines is $30. GOOD LUCK!!!\n",
      "\n",
      "D | D | A\n",
      "D | D | B\n",
      "A | D | D\n",
      "\n",
      "You WON $0, from line/lines: .\n",
      "Current balance is $70.\n"
     ]
    },
    {
     "name": "stdin",
     "output_type": "stream",
     "text": [
      "\n",
      "Press ENTER to play (q to quit):  \n",
      "Enter the no. of lines to bet (1-3):  3\n",
      "Enter an amount to bet on each line $ 10\n"
     ]
    },
    {
     "name": "stdout",
     "output_type": "stream",
     "text": [
      "\n",
      "Your total bet on 3 lines is $30. GOOD LUCK!!!\n",
      "\n",
      "C | D | C\n",
      "D | D | D\n",
      "B | C | D\n",
      "\n",
      "You WON $20, from line/lines: 2 .\n",
      "Current balance is $60.\n"
     ]
    },
    {
     "name": "stdin",
     "output_type": "stream",
     "text": [
      "\n",
      "Press ENTER to play (q to quit):  \n",
      "Enter the no. of lines to bet (1-3):  3\n",
      "Enter an amount to bet on each line $ 20\n"
     ]
    },
    {
     "name": "stdout",
     "output_type": "stream",
     "text": [
      "\n",
      "Your total bet on 3 lines is $60. GOOD LUCK!!!\n",
      "\n",
      "D | C | B\n",
      "D | B | D\n",
      "B | D | C\n",
      "\n",
      "You WON $0, from line/lines: .\n",
      "Current balance is $0.\n"
     ]
    },
    {
     "name": "stdin",
     "output_type": "stream",
     "text": [
      "\n",
      "Press ENTER to play (q to quit):  \n"
     ]
    },
    {
     "name": "stdout",
     "output_type": "stream",
     "text": [
      "Balance ZERO(0). Restart the Game !!!\n",
      "\n",
      "Yout final Balance is $0\n"
     ]
    }
   ],
   "source": [
    "import random\n",
    "\n",
    "SLOT_LINES = 3\n",
    "MIN_BET = 1\n",
    "MAX_BET = 100\n",
    "\n",
    "ROW = 3\n",
    "COL = 3\n",
    "\n",
    "SYM_COUNT = {\n",
    "    'A':3,\n",
    "    'B':5,\n",
    "    'C':10,\n",
    "    'D':15,\n",
    "}\n",
    "\n",
    "SYM_VALUE = {\n",
    "    'A':10,\n",
    "    'B':5,\n",
    "    'C':3,\n",
    "    'D':2,\n",
    "}\n",
    "\n",
    "def check_win(columns, lines, bet, values):\n",
    "    winnings = 0\n",
    "    win_lines = []\n",
    "    for line in range(lines):\n",
    "        sym = columns[0][line]\n",
    "        for col in columns:\n",
    "            sym_check = col[line]\n",
    "            if sym != sym_check:\n",
    "                break\n",
    "        else:  \n",
    "            winnings += values[sym] * bet\n",
    "            win_lines.append(line+1)\n",
    "        # else block executes only if the loop completes normally \n",
    "        # (i.e., without being interrupted by a break statement).\n",
    "\n",
    "    return winnings,win_lines\n",
    "\n",
    "def get_spin(rows,cols,symbols):\n",
    "    all_sym = []\n",
    "    for sym,count in symbols.items():\n",
    "        for _ in range(count):\n",
    "            all_sym.append(sym)\n",
    "\n",
    "    columns = []\n",
    "    for _ in range(cols):\n",
    "        column = []\n",
    "        current_sym = all_sym[:]\n",
    "        for _ in range(rows):\n",
    "            value = random.choice(current_sym)\n",
    "            current_sym.remove(value)\n",
    "            column.append(value)\n",
    "        columns.append(column)\n",
    "        \n",
    "    return columns\n",
    "\n",
    "def print_spin(columns):\n",
    "    for row in range(len(columns[0])):\n",
    "        for i, col in enumerate(columns):\n",
    "            if i != len(columns[0]) -1:\n",
    "                print(col[row],end=\" | \")\n",
    "            else:\n",
    "                print(col[row])\n",
    "\n",
    "def deposit():\n",
    "    while True:\n",
    "        amount = input(\"Enter an amount to deposit $\") \n",
    "        if amount.isdigit():                                   # .isdigit() won't take '-', for negative value.\n",
    "            amount = int(amount)\n",
    "            if amount == 0:\n",
    "                print(\"Amount must be greater than ZERO(0).\")\n",
    "            else:\n",
    "                break\n",
    "        else:\n",
    "            print(\"Enter a number.\")\n",
    "    return amount\n",
    "\n",
    "def bet_lines():\n",
    "    while True:\n",
    "        lines = input(f\"Enter the no. of lines to bet (1-{SLOT_LINES}): \") \n",
    "        if lines.isdigit():                                   \n",
    "            lines = int(lines)\n",
    "            if not 1 <= lines <= SLOT_LINES :\n",
    "                print(\"The no. of lines should be in the limit\")\n",
    "            else:\n",
    "                break\n",
    "        else:\n",
    "            print(\"Enter a number.\")\n",
    "    return lines\n",
    "\n",
    "def bet_amount():\n",
    "    while True:\n",
    "        amount = input(\"Enter an amount to bet on each line $\") \n",
    "        if amount.isdigit():                                   \n",
    "            amount = int(amount)\n",
    "            if not MIN_BET <= amount <= MAX_BET:\n",
    "                print(f\"Bet amount should be between ${MIN_BET} - ${MAX_BET}.\")\n",
    "            else:\n",
    "                break\n",
    "        else:\n",
    "            print(\"Enter a number.\")\n",
    "    return amount\n",
    "\n",
    "\n",
    "def spin(balance):\n",
    "    bet_l = bet_lines()\n",
    "    while True:\n",
    "        bet_a = bet_amount()\n",
    "        total_bet = bet_l * bet_a\n",
    "        if total_bet > balance:\n",
    "            print(f\"Insufficient Balance!!!, Total Bet amount ${total_bet} & Balance amount ${balance}.\")\n",
    "        else:\n",
    "            break\n",
    "    print(f\"\\nYour total bet on {bet_l} lines is ${total_bet}. GOOD LUCK!!!\\n\")\n",
    "    slots = get_spin(ROW,COL,SYM_COUNT)\n",
    "    print_spin(slots)\n",
    "    winnings, win_lines = check_win(slots, bet_l, bet_a, SYM_VALUE)\n",
    "    print(f\"\\nYou WON ${winnings}, from line/lines:\", *win_lines,\".\")\n",
    "    return winnings - total_bet\n",
    "\n",
    "\n",
    "def start():                                                   # can be main() \n",
    "    print(\"Welcome to THE GAME\\n\")\n",
    "    balance = deposit()\n",
    "    while True:\n",
    "        game = input(\"\\nPress ENTER to play (q to quit): \").lower()\n",
    "        if game == 'q':\n",
    "            break\n",
    "        elif balance == 0:\n",
    "            print(\"Balance ZERO(0). Restart the Game !!!\")\n",
    "            break\n",
    "        else:\n",
    "            balance += spin(balance)\n",
    "            print(f\"Current balance is ${balance}.\")\n",
    "    print(f\"\\nYout final Balance is ${balance}\") \n",
    "\n",
    "start()"
   ]
  },
  {
   "cell_type": "markdown",
   "id": "55e9aa43-5964-4f39-ac69-a42c69ef5781",
   "metadata": {},
   "source": [
    "#### To show a diff Output:"
   ]
  },
  {
   "cell_type": "code",
   "execution_count": 89,
   "id": "51135c6a-6ec6-4673-bac1-f41bcdef933f",
   "metadata": {},
   "outputs": [
    {
     "name": "stdout",
     "output_type": "stream",
     "text": [
      "Welcome to THE GAME\n",
      "\n"
     ]
    },
    {
     "name": "stdin",
     "output_type": "stream",
     "text": [
      "Enter an amount to deposit $ abc\n"
     ]
    },
    {
     "name": "stdout",
     "output_type": "stream",
     "text": [
      "Enter a number.\n"
     ]
    },
    {
     "name": "stdin",
     "output_type": "stream",
     "text": [
      "Enter an amount to deposit $ 0\n"
     ]
    },
    {
     "name": "stdout",
     "output_type": "stream",
     "text": [
      "Amount must be greater than ZERO(0).\n"
     ]
    },
    {
     "name": "stdin",
     "output_type": "stream",
     "text": [
      "Enter an amount to deposit $ 100\n",
      "\n",
      "Press ENTER to play (q to quit):  \n",
      "Enter the no. of lines to bet (1-3):  7\n"
     ]
    },
    {
     "name": "stdout",
     "output_type": "stream",
     "text": [
      "The no. of lines should be in the limit\n"
     ]
    },
    {
     "name": "stdin",
     "output_type": "stream",
     "text": [
      "Enter the no. of lines to bet (1-3):  3\n",
      "Enter an amount to bet on each line $ abc\n"
     ]
    },
    {
     "name": "stdout",
     "output_type": "stream",
     "text": [
      "Enter a number.\n"
     ]
    },
    {
     "name": "stdin",
     "output_type": "stream",
     "text": [
      "Enter an amount to bet on each line $ 0.5\n"
     ]
    },
    {
     "name": "stdout",
     "output_type": "stream",
     "text": [
      "Enter a number.\n"
     ]
    },
    {
     "name": "stdin",
     "output_type": "stream",
     "text": [
      "Enter an amount to bet on each line $ 1000\n"
     ]
    },
    {
     "name": "stdout",
     "output_type": "stream",
     "text": [
      "Bet amount should be between $1 - $100.\n"
     ]
    },
    {
     "name": "stdin",
     "output_type": "stream",
     "text": [
      "Enter an amount to bet on each line $ 10\n"
     ]
    },
    {
     "name": "stdout",
     "output_type": "stream",
     "text": [
      "\n",
      "Your total bet on 3 lines is $30. GOOD LUCK!!!\n",
      "\n",
      "D | D | C\n",
      "D | B | D\n",
      "C | C | D\n",
      "\n",
      "You WON $0, from line/lines: .\n",
      "Current balance is $70.\n"
     ]
    },
    {
     "name": "stdin",
     "output_type": "stream",
     "text": [
      "\n",
      "Press ENTER to play (q to quit):  q\n"
     ]
    },
    {
     "name": "stdout",
     "output_type": "stream",
     "text": [
      "\n",
      "Yout final Balance is $70\n"
     ]
    }
   ],
   "source": [
    "start()"
   ]
  },
  {
   "cell_type": "markdown",
   "id": "1c7d5971-46e4-497e-87c6-c499672c6132",
   "metadata": {},
   "source": [
    "#### ----- THANK YOU -----     \n",
    "DATE : 22 DEC 2024"
   ]
  }
 ],
 "metadata": {
  "kernelspec": {
   "display_name": "Python 3 (ipykernel)",
   "language": "python",
   "name": "python3"
  },
  "language_info": {
   "codemirror_mode": {
    "name": "ipython",
    "version": 3
   },
   "file_extension": ".py",
   "mimetype": "text/x-python",
   "name": "python",
   "nbconvert_exporter": "python",
   "pygments_lexer": "ipython3",
   "version": "3.11.3"
  }
 },
 "nbformat": 4,
 "nbformat_minor": 5
}

