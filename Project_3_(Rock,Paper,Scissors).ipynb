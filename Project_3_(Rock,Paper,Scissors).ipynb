{
 "cells": [
  {
   "cell_type": "markdown",
   "id": "b6614a6c-bb63-48dc-b417-d579d1b7fac4",
   "metadata": {},
   "source": [
    "## 3. Rock: Paper: Scissors:"
   ]
  },
  {
   "cell_type": "markdown",
   "id": "2e758efa-2fe1-4516-ad10-46db6184d033",
   "metadata": {},
   "source": [
    "#### As per Video !!!"
   ]
  },
  {
   "cell_type": "code",
   "execution_count": 1,
   "id": "a1eb0751-799e-4cb4-aeaf-900037bc549a",
   "metadata": {},
   "outputs": [
    {
     "name": "stdout",
     "output_type": "stream",
     "text": [
      "Welcome to the Game\n"
     ]
    },
    {
     "name": "stdin",
     "output_type": "stream",
     "text": [
      "Enter rock/paper/scissors or 'q' to quit:          rock\n"
     ]
    },
    {
     "name": "stdout",
     "output_type": "stream",
     "text": [
      "Enter a correct option\n"
     ]
    },
    {
     "name": "stdin",
     "output_type": "stream",
     "text": [
      "Enter rock/paper/scissors or 'q' to quit:  paper\n"
     ]
    },
    {
     "name": "stdout",
     "output_type": "stream",
     "text": [
      "User Won !!!\n"
     ]
    },
    {
     "name": "stdin",
     "output_type": "stream",
     "text": [
      "Enter rock/paper/scissors or 'q' to quit:  paper\n"
     ]
    },
    {
     "name": "stdout",
     "output_type": "stream",
     "text": [
      "Com Won !!!\n"
     ]
    },
    {
     "name": "stdin",
     "output_type": "stream",
     "text": [
      "Enter rock/paper/scissors or 'q' to quit:  scissors\n"
     ]
    },
    {
     "name": "stdout",
     "output_type": "stream",
     "text": [
      "Com Won !!!\n"
     ]
    },
    {
     "name": "stdin",
     "output_type": "stream",
     "text": [
      "Enter rock/paper/scissors or 'q' to quit:  rock\n"
     ]
    },
    {
     "name": "stdout",
     "output_type": "stream",
     "text": [
      "User Won !!!\n"
     ]
    },
    {
     "name": "stdin",
     "output_type": "stream",
     "text": [
      "Enter rock/paper/scissors or 'q' to quit:  bat\n"
     ]
    },
    {
     "name": "stdout",
     "output_type": "stream",
     "text": [
      "Enter a correct option\n"
     ]
    },
    {
     "name": "stdin",
     "output_type": "stream",
     "text": [
      "Enter rock/paper/scissors or 'q' to quit:  q\n"
     ]
    },
    {
     "name": "stdout",
     "output_type": "stream",
     "text": [
      "User Score: 2\n",
      "Com Score: 2\n",
      "Game Over !!!\n"
     ]
    }
   ],
   "source": [
    "import random\n",
    "\n",
    "print(\"Welcome to the Game\")\n",
    "user = 0\n",
    "com = 0 \n",
    "opt = ['rock','paper','scissors']\n",
    "while True:\n",
    "    user_cho = input(\"Enter rock/paper/scissors or 'q' to quit: \").lower()           # no strip()\n",
    "    if user_cho == 'q':\n",
    "        break\n",
    "    if user_cho not in opt:\n",
    "        print(\"Enter a correct option\")\n",
    "        continue\n",
    "    ran = random.randint(0,2)\n",
    "    com_cho = opt[ran]\n",
    "    if user_cho == 'rock' and com_cho == 'scissors':\n",
    "        user += 1\n",
    "        print(\"User Won !!!\")\n",
    "    elif user_cho == 'paper' and com_cho == 'rock':\n",
    "        user += 1\n",
    "        print(\"User Won !!!\")\n",
    "    elif user_cho == 'scissors' and com_cho == 'paper':\n",
    "        user += 1\n",
    "        print(\"User Won !!!\")\n",
    "    elif user_cho == com_cho:\n",
    "        print(\"Draw !!!\")\n",
    "        user += 0.5\n",
    "        com += 0.5\n",
    "    else:\n",
    "        print(\"Com Won !!!\")\n",
    "        com += 1\n",
    "print(f\"User Score: {user}\")\n",
    "print(f\"Com Score: {com}\")\n",
    "print(\"Game Over !!!\")"
   ]
  },
  {
   "cell_type": "markdown",
   "id": "c38e4070-4fc6-497d-861b-cab1e25eb4b4",
   "metadata": {},
   "source": [
    "#### TRY!!!"
   ]
  },
  {
   "cell_type": "code",
   "execution_count": 3,
   "id": "d0435d5d-dd01-4714-87fa-20b2eff0e59b",
   "metadata": {},
   "outputs": [
    {
     "name": "stdout",
     "output_type": "stream",
     "text": [
      "Welcome to the Game\n"
     ]
    },
    {
     "name": "stdin",
     "output_type": "stream",
     "text": [
      "Enter rock/paper/scissors or 'q' to quit:                    paper\n"
     ]
    },
    {
     "name": "stdout",
     "output_type": "stream",
     "text": [
      "Draw !!!\n"
     ]
    },
    {
     "name": "stdin",
     "output_type": "stream",
     "text": [
      "Enter rock/paper/scissors or 'q' to quit:  bat\n"
     ]
    },
    {
     "name": "stdout",
     "output_type": "stream",
     "text": [
      "Enter a correct option\n"
     ]
    },
    {
     "name": "stdin",
     "output_type": "stream",
     "text": [
      "Enter rock/paper/scissors or 'q' to quit:  rock\n"
     ]
    },
    {
     "name": "stdout",
     "output_type": "stream",
     "text": [
      "Draw !!!\n"
     ]
    },
    {
     "name": "stdin",
     "output_type": "stream",
     "text": [
      "Enter rock/paper/scissors or 'q' to quit:  rock\n"
     ]
    },
    {
     "name": "stdout",
     "output_type": "stream",
     "text": [
      "Com Won !!!\n"
     ]
    },
    {
     "name": "stdin",
     "output_type": "stream",
     "text": [
      "Enter rock/paper/scissors or 'q' to quit:  rock\n"
     ]
    },
    {
     "name": "stdout",
     "output_type": "stream",
     "text": [
      "Com Won !!!\n"
     ]
    },
    {
     "name": "stdin",
     "output_type": "stream",
     "text": [
      "Enter rock/paper/scissors or 'q' to quit:  scissor\n"
     ]
    },
    {
     "name": "stdout",
     "output_type": "stream",
     "text": [
      "Enter a correct option\n"
     ]
    },
    {
     "name": "stdin",
     "output_type": "stream",
     "text": [
      "Enter rock/paper/scissors or 'q' to quit:  scissors\n"
     ]
    },
    {
     "name": "stdout",
     "output_type": "stream",
     "text": [
      "Com Won !!!\n"
     ]
    },
    {
     "name": "stdin",
     "output_type": "stream",
     "text": [
      "Enter rock/paper/scissors or 'q' to quit:  paper\n"
     ]
    },
    {
     "name": "stdout",
     "output_type": "stream",
     "text": [
      "Draw !!!\n"
     ]
    },
    {
     "name": "stdin",
     "output_type": "stream",
     "text": [
      "Enter rock/paper/scissors or 'q' to quit:  paper\n"
     ]
    },
    {
     "name": "stdout",
     "output_type": "stream",
     "text": [
      "Com Won !!!\n"
     ]
    },
    {
     "name": "stdin",
     "output_type": "stream",
     "text": [
      "Enter rock/paper/scissors or 'q' to quit:  rock\n"
     ]
    },
    {
     "name": "stdout",
     "output_type": "stream",
     "text": [
      "User Won !!!\n"
     ]
    },
    {
     "name": "stdin",
     "output_type": "stream",
     "text": [
      "Enter rock/paper/scissors or 'q' to quit:  rock\n"
     ]
    },
    {
     "name": "stdout",
     "output_type": "stream",
     "text": [
      "Com Won !!!\n"
     ]
    },
    {
     "name": "stdin",
     "output_type": "stream",
     "text": [
      "Enter rock/paper/scissors or 'q' to quit:  q\n"
     ]
    },
    {
     "name": "stdout",
     "output_type": "stream",
     "text": [
      "Computer won with 6.5 points, and You lost with 2.5 points\n",
      "Game Over !!!\n"
     ]
    }
   ],
   "source": [
    "import random\n",
    "\n",
    "print(\"Welcome to the Game\")\n",
    "user = 0\n",
    "com = 0 \n",
    "opt = ['rock','paper','scissors']\n",
    "while True:\n",
    "    user_cho = input(\"Enter rock/paper/scissors or 'q' to quit: \").lower().strip()              # with strip()\n",
    "    if user_cho == 'q':\n",
    "        break\n",
    "    if user_cho not in opt:\n",
    "        print(\"Enter a correct option\")\n",
    "        continue\n",
    "    com_cho = random.choice(opt)\n",
    "    if user_cho == 'rock' and com_cho == 'scissors':\n",
    "        user += 1\n",
    "        print(\"User Won !!!\")\n",
    "    elif user_cho == 'paper' and com_cho == 'rock':\n",
    "        user += 1\n",
    "        print(\"User Won !!!\")\n",
    "    elif user_cho == 'scissors' and com_cho == 'paper':\n",
    "        user += 1\n",
    "        print(\"User Won !!!\")\n",
    "    elif user_cho == com_cho:\n",
    "        print(\"Draw !!!\")\n",
    "        user += 0.5\n",
    "        com += 0.5\n",
    "    else:\n",
    "        print(\"Com Won !!!\")\n",
    "        com += 1\n",
    "if user > com:\n",
    "    print(f\"You won with {user} points, and Computer lost with {com} points\")\n",
    "elif user < com:\n",
    "    print(f\"Computer won with {com} points, and You lost with {user} points\")\n",
    "else:\n",
    "    print(f\"Draw by equal points, {user}\")\n",
    "print(\"Game Over !!!\")"
   ]
  },
  {
   "cell_type": "markdown",
   "id": "40b0c688-1f8e-4f07-b052-d35b058231ea",
   "metadata": {},
   "source": [
    "#### ----- THANK YOU -----     \n",
    "DATE : 17 DEC 2024"
   ]
  }
 ],
 "metadata": {
  "kernelspec": {
   "display_name": "Python 3 (ipykernel)",
   "language": "python",
   "name": "python3"
  },
  "language_info": {
   "codemirror_mode": {
    "name": "ipython",
    "version": 3
   },
   "file_extension": ".py",
   "mimetype": "text/x-python",
   "name": "python",
   "nbconvert_exporter": "python",
   "pygments_lexer": "ipython3",
   "version": "3.11.3"
  }
 },
 "nbformat": 4,
 "nbformat_minor": 5
}
