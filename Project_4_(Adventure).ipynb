{
 "cells": [
  {
   "cell_type": "markdown",
   "id": "a3ab730a-f3bf-49a6-9af0-8f8a87fd7189",
   "metadata": {},
   "source": [
    "## 4. Adventure:"
   ]
  },
  {
   "cell_type": "markdown",
   "id": "2d3d3ae5-94ca-409e-a015-f4aad0395439",
   "metadata": {},
   "source": [
    "#### TRY !!!"
   ]
  },
  {
   "cell_type": "code",
   "execution_count": 13,
   "id": "bca38af4-7751-4c03-be39-83c0f5a968f0",
   "metadata": {},
   "outputs": [
    {
     "name": "stdout",
     "output_type": "stream",
     "text": [
      "Welcome to the Adventure !!!\n",
      "Your currently on the forest, you need to reach the city by selecting the correct option.\n"
     ]
    },
    {
     "name": "stdin",
     "output_type": "stream",
     "text": [
      "Enter left or right:  left\n"
     ]
    },
    {
     "name": "stdout",
     "output_type": "stream",
     "text": [
      "You reached the next level !!!\n"
     ]
    },
    {
     "name": "stdin",
     "output_type": "stream",
     "text": [
      "Enter left or right:  left\n"
     ]
    },
    {
     "name": "stdout",
     "output_type": "stream",
     "text": [
      "You reached the next level !!!\n"
     ]
    },
    {
     "name": "stdin",
     "output_type": "stream",
     "text": [
      "Enter left or right:  right\n"
     ]
    },
    {
     "name": "stdout",
     "output_type": "stream",
     "text": [
      "You reached the City, you WON !!!\n",
      "Game Over !!!\n"
     ]
    }
   ],
   "source": [
    "print(\"Welcome to the Adventure !!!\")\n",
    "print(\"Your currently on the forest, you need to reach the city by selecting the correct option.\")\n",
    "path1 = input('Enter left or right: ').lower().strip()\n",
    "r = \"right\"\n",
    "l = \"left\"\n",
    "if path1 == r:\n",
    "    print(\"You got killed by an animal.\")\n",
    "elif path1 == l:\n",
    "    print(\"You reached the next level !!!\")\n",
    "    path2 = input('Enter left or right: ').lower().strip()\n",
    "    if path2 == r:\n",
    "        print(\"You got stucked by the mud.\")\n",
    "        path2_1 = input('Enter esc or giveup: ').lower().strip()\n",
    "        e = \"esc\"\n",
    "        g = \"giveup\"\n",
    "        if path2_1 == e:\n",
    "            print(\"You got escaped.\")\n",
    "            path2_2 = input('Enter left or right: ').lower().strip()\n",
    "            if path2_2 == r:\n",
    "                print(\"You were poisoned by a thorn.\")\n",
    "            elif path2_2 == l:\n",
    "                print(\"You got into the animal's trap.\")\n",
    "            else:\n",
    "                print(\"Wrong option !!!\")\n",
    "        elif path2_1 == g:\n",
    "            print(\"You died.\")\n",
    "        else:\n",
    "            print(\"Wrong option !!!\")\n",
    "    elif path2 == l:\n",
    "        print(\"You reached the next level !!!\")\n",
    "        path2 = input('Enter left or right: ').lower().strip()\n",
    "        if path2 == r:\n",
    "            print(\"You reached the City, you WON !!!\")\n",
    "        elif path2 == l:\n",
    "            print(\"You fell into a pit.\")\n",
    "        else:\n",
    "            print(\"Wrong option !!!\")\n",
    "    else:\n",
    "        print(\"Wrong option !!!\")\n",
    "else:\n",
    "    print(\"Wrong option !!!\")\n",
    "print(\"Game Over !!!\")"
   ]
  },
  {
   "cell_type": "markdown",
   "id": "21967826-907b-4e35-85e7-d9178021a3e8",
   "metadata": {},
   "source": [
    "#### To show a diff Output:"
   ]
  },
  {
   "cell_type": "code",
   "execution_count": 14,
   "id": "4de7234d-7bc6-4596-b9a8-fe08cbe4cae7",
   "metadata": {},
   "outputs": [
    {
     "name": "stdout",
     "output_type": "stream",
     "text": [
      "Welcome to the Adventure !!!\n",
      "Your currently on the forest, you need to reach the city by selecting the correct option.\n"
     ]
    },
    {
     "name": "stdin",
     "output_type": "stream",
     "text": [
      "Enter left or right:  left\n"
     ]
    },
    {
     "name": "stdout",
     "output_type": "stream",
     "text": [
      "You reached the next level !!!\n"
     ]
    },
    {
     "name": "stdin",
     "output_type": "stream",
     "text": [
      "Enter left or right:  right\n"
     ]
    },
    {
     "name": "stdout",
     "output_type": "stream",
     "text": [
      "You got stucked by the mud.\n"
     ]
    },
    {
     "name": "stdin",
     "output_type": "stream",
     "text": [
      "Enter esc or giveup:  esc\n"
     ]
    },
    {
     "name": "stdout",
     "output_type": "stream",
     "text": [
      "You got escaped.\n"
     ]
    },
    {
     "name": "stdin",
     "output_type": "stream",
     "text": [
      "Enter left or right:  left\n"
     ]
    },
    {
     "name": "stdout",
     "output_type": "stream",
     "text": [
      "You got into the animal's trap.\n",
      "Game Over !!!\n"
     ]
    }
   ],
   "source": [
    "print(\"Welcome to the Adventure !!!\")\n",
    "print(\"Your currently on the forest, you need to reach the city by selecting the correct option.\")\n",
    "path1 = input('Enter left or right: ').lower().strip()\n",
    "r = \"right\"\n",
    "l = \"left\"\n",
    "if path1 == r:\n",
    "    print(\"You got killed by an animal.\")\n",
    "elif path1 == l:\n",
    "    print(\"You reached the next level !!!\")\n",
    "    path2 = input('Enter left or right: ').lower().strip()\n",
    "    if path2 == r:\n",
    "        print(\"You got stucked by the mud.\")\n",
    "        path2_1 = input('Enter esc or giveup: ').lower().strip()\n",
    "        e = \"esc\"\n",
    "        g = \"giveup\"\n",
    "        if path2_1 == e:\n",
    "            print(\"You got escaped.\")\n",
    "            path2_2 = input('Enter left or right: ').lower().strip()\n",
    "            if path2_2 == r:\n",
    "                print(\"You were poisoned by a thorn.\")\n",
    "            elif path2_2 == l:\n",
    "                print(\"You got into the animal's trap.\")\n",
    "            else:\n",
    "                print(\"Wrong option !!!\")\n",
    "        elif path2_1 == g:\n",
    "            print(\"You died.\")\n",
    "        else:\n",
    "            print(\"Wrong option !!!\")\n",
    "    elif path2 == l:\n",
    "        print(\"You reached the next level !!!\")\n",
    "        path2 = input('Enter left or right: ').lower().strip()\n",
    "        if path2 == r:\n",
    "            print(\"You reached the City, you WON !!!\")\n",
    "        elif path2 == l:\n",
    "            print(\"You fell into a pit.\")\n",
    "        else:\n",
    "            print(\"Wrong option !!!\")\n",
    "    else:\n",
    "        print(\"Wrong option !!!\")\n",
    "else:\n",
    "    print(\"Wrong option !!!\")\n",
    "print(\"Game Over !!!\")"
   ]
  },
  {
   "cell_type": "markdown",
   "id": "3a1e7566-5352-4661-898b-277cfa012c8b",
   "metadata": {},
   "source": [
    "#### ----- THANK YOU -----     \n",
    "DATE : 17 DEC 2024"
   ]
  }
 ],
 "metadata": {
  "kernelspec": {
   "display_name": "Python 3 (ipykernel)",
   "language": "python",
   "name": "python3"
  },
  "language_info": {
   "codemirror_mode": {
    "name": "ipython",
    "version": 3
   },
   "file_extension": ".py",
   "mimetype": "text/x-python",
   "name": "python",
   "nbconvert_exporter": "python",
   "pygments_lexer": "ipython3",
   "version": "3.11.3"
  }
 },
 "nbformat": 4,
 "nbformat_minor": 5
}
