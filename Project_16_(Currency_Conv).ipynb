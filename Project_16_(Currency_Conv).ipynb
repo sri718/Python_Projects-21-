{
 "cells": [
  {
   "cell_type": "markdown",
   "id": "56836aa3-51d9-45c7-b5c9-5b06b25f1d0a",
   "metadata": {},
   "source": [
    "## 16. : Currency Conversion - API"
   ]
  },
  {
   "cell_type": "markdown",
   "id": "9e10e1c1-b54c-4f5d-98e5-7be37229b00b",
   "metadata": {},
   "source": [
    "#### Try:"
   ]
  },
  {
   "cell_type": "markdown",
   "id": "fd980f53-a02a-4045-95fc-4cf4a89e34cb",
   "metadata": {},
   "source": [
    "#### Code works only after you replace the API_KEY with yours:"
   ]
  },
  {
   "cell_type": "code",
   "execution_count": 87,
   "id": "d2d686b1-feb9-4892-85b6-6258dbedc56b",
   "metadata": {},
   "outputs": [
    {
     "name": "stdout",
     "output_type": "stream",
     "text": [
      "Welcome to the currency converter!\n",
      "List - lists the different currencies\n",
      "Convert - convert from one currency to another\n",
      "Rate - get the exchange rate of two currencies\n",
      "\n"
     ]
    },
    {
     "name": "stdin",
     "output_type": "stream",
     "text": [
      "Enter a command (q to quit):  list\n"
     ]
    },
    {
     "name": "stdout",
     "output_type": "stream",
     "text": [
      "1. UAE Dirham - AED.\n",
      "2. Afghan Afghani - AFN.\n",
      "3. Albanian Lek - ALL.\n",
      "4. Armenian Dram - AMD.\n",
      "5. Netherlands Antillian Guilder - ANG.\n",
      "6. Angolan Kwanza - AOA.\n",
      "7. Argentine Peso - ARS.\n",
      "8. Australian Dollar - AUD.\n",
      "9. Aruban Florin - AWG.\n",
      "10. Azerbaijani Manat - AZN.\n",
      "11. Bosnia and Herzegovina Convertible Mark - BAM.\n",
      "12. Barbados Dollar - BBD.\n",
      "13. Bangladeshi Taka - BDT.\n",
      "14. Bulgarian Lev - BGN.\n",
      "15. Bahraini Dinar - BHD.\n",
      "16. Burundian Franc - BIF.\n",
      "17. Bermudian Dollar - BMD.\n",
      "18. Brunei Dollar - BND.\n",
      "19. Bolivian Boliviano - BOB.\n",
      "20. Brazilian Real - BRL.\n",
      "21. Bahamian Dollar - BSD.\n",
      "22. Bhutanese Ngultrum - BTN.\n",
      "23. Botswana Pula - BWP.\n",
      "24. Belarusian Ruble - BYN.\n",
      "25. Belize Dollar - BZD.\n",
      "26. Canadian Dollar - CAD.\n",
      "27. Congolese Franc - CDF.\n",
      "28. Swiss Franc - CHF.\n",
      "29. Chilean Peso - CLP.\n",
      "30. Chinese Renminbi - CNY.\n",
      "31. Colombian Peso - COP.\n",
      "32. Costa Rican Colon - CRC.\n",
      "33. Cuban Peso - CUP.\n",
      "34. Cape Verdean Escudo - CVE.\n",
      "35. Czech Koruna - CZK.\n",
      "36. Djiboutian Franc - DJF.\n",
      "37. Danish Krone - DKK.\n",
      "38. Dominican Peso - DOP.\n",
      "39. Algerian Dinar - DZD.\n",
      "40. Egyptian Pound - EGP.\n",
      "41. Eritrean Nakfa - ERN.\n",
      "42. Ethiopian Birr - ETB.\n",
      "43. Euro - EUR.\n",
      "44. Fiji Dollar - FJD.\n",
      "45. Falkland Islands Pound - FKP.\n",
      "46. Faroese Króna - FOK.\n",
      "47. Pound Sterling - GBP.\n",
      "48. Georgian Lari - GEL.\n",
      "49. Guernsey Pound - GGP.\n",
      "50. Ghanaian Cedi - GHS.\n",
      "51. Gibraltar Pound - GIP.\n",
      "52. Gambian Dalasi - GMD.\n",
      "53. Guinean Franc - GNF.\n",
      "54. Guatemalan Quetzal - GTQ.\n",
      "55. Guyanese Dollar - GYD.\n",
      "56. Hong Kong Dollar - HKD.\n",
      "57. Honduran Lempira - HNL.\n",
      "58. Croatian Kuna - HRK.\n",
      "59. Haitian Gourde - HTG.\n",
      "60. Hungarian Forint - HUF.\n",
      "61. Indonesian Rupiah - IDR.\n",
      "62. Israeli New Shekel - ILS.\n",
      "63. Manx Pound - IMP.\n",
      "64. Indian Rupee - INR.\n",
      "65. Iraqi Dinar - IQD.\n",
      "66. Iranian Rial - IRR.\n",
      "67. Icelandic Króna - ISK.\n",
      "68. Jersey Pound - JEP.\n",
      "69. Jamaican Dollar - JMD.\n",
      "70. Jordanian Dinar - JOD.\n",
      "71. Japanese Yen - JPY.\n",
      "72. Kenyan Shilling - KES.\n",
      "73. Kyrgyzstani Som - KGS.\n",
      "74. Cambodian Riel - KHR.\n",
      "75. Kiribati Dollar - KID.\n",
      "76. Comorian Franc - KMF.\n",
      "77. South Korean Won - KRW.\n",
      "78. Kuwaiti Dinar - KWD.\n",
      "79. Cayman Islands Dollar - KYD.\n",
      "80. Kazakhstani Tenge - KZT.\n",
      "81. Lao Kip - LAK.\n",
      "82. Lebanese Pound - LBP.\n",
      "83. Sri Lanka Rupee - LKR.\n",
      "84. Liberian Dollar - LRD.\n",
      "85. Lesotho Loti - LSL.\n",
      "86. Libyan Dinar - LYD.\n",
      "87. Moroccan Dirham - MAD.\n",
      "88. Moldovan Leu - MDL.\n",
      "89. Malagasy Ariary - MGA.\n",
      "90. Macedonian Denar - MKD.\n",
      "91. Burmese Kyat - MMK.\n",
      "92. Mongolian Tögrög - MNT.\n",
      "93. Macanese Pataca - MOP.\n",
      "94. Mauritanian Ouguiya - MRU.\n",
      "95. Mauritian Rupee - MUR.\n",
      "96. Maldivian Rufiyaa - MVR.\n",
      "97. Malawian Kwacha - MWK.\n",
      "98. Mexican Peso - MXN.\n",
      "99. Malaysian Ringgit - MYR.\n",
      "100. Mozambican Metical - MZN.\n",
      "101. Namibian Dollar - NAD.\n",
      "102. Nigerian Naira - NGN.\n",
      "103. Nicaraguan Córdoba - NIO.\n",
      "104. Norwegian Krone - NOK.\n",
      "105. Nepalese Rupee - NPR.\n",
      "106. New Zealand Dollar - NZD.\n",
      "107. Omani Rial - OMR.\n",
      "108. Panamanian Balboa - PAB.\n",
      "109. Peruvian Sol - PEN.\n",
      "110. Papua New Guinean Kina - PGK.\n",
      "111. Philippine Peso - PHP.\n",
      "112. Pakistani Rupee - PKR.\n",
      "113. Polish Złoty - PLN.\n",
      "114. Paraguayan Guaraní - PYG.\n",
      "115. Qatari Riyal - QAR.\n",
      "116. Romanian Leu - RON.\n",
      "117. Serbian Dinar - RSD.\n",
      "118. Russian Ruble - RUB.\n",
      "119. Rwandan Franc - RWF.\n",
      "120. Saudi Riyal - SAR.\n",
      "121. Solomon Islands Dollar - SBD.\n",
      "122. Seychellois Rupee - SCR.\n",
      "123. Sudanese Pound - SDG.\n",
      "124. Swedish Krona - SEK.\n",
      "125. Singapore Dollar - SGD.\n",
      "126. Saint Helena Pound - SHP.\n",
      "127. Sierra Leonean Leone - SLE.\n",
      "128. Sierra Leonean Leone - SLL.\n",
      "129. Somali Shilling - SOS.\n",
      "130. Surinamese Dollar - SRD.\n",
      "131. South Sudanese Pound - SSP.\n",
      "132. São Tomé and Príncipe Dobra - STN.\n",
      "133. Syrian Pound - SYP.\n",
      "134. Eswatini Lilangeni - SZL.\n",
      "135. Thai Baht - THB.\n",
      "136. Tajikistani Somoni - TJS.\n",
      "137. Turkmenistan Manat - TMT.\n",
      "138. Tunisian Dinar - TND.\n",
      "139. Tongan Paʻanga - TOP.\n",
      "140. Turkish Lira - TRY.\n",
      "141. Trinidad and Tobago Dollar - TTD.\n",
      "142. Tuvaluan Dollar - TVD.\n",
      "143. New Taiwan Dollar - TWD.\n",
      "144. Tanzanian Shilling - TZS.\n",
      "145. Ukrainian Hryvnia - UAH.\n",
      "146. Ugandan Shilling - UGX.\n",
      "147. United States Dollar - USD.\n",
      "148. Uruguayan Peso - UYU.\n",
      "149. Uzbekistani So'm - UZS.\n",
      "150. Venezuelan Bolívar Soberano - VES.\n",
      "151. Vietnamese Đồng - VND.\n",
      "152. Vanuatu Vatu - VUV.\n",
      "153. Samoan Tālā - WST.\n",
      "154. Central African CFA Franc - XAF.\n",
      "155. East Caribbean Dollar - XCD.\n",
      "156. Special Drawing Rights - XDR.\n",
      "157. West African CFA franc - XOF.\n",
      "158. CFP Franc - XPF.\n",
      "159. Yemeni Rial - YER.\n",
      "160. South African Rand - ZAR.\n",
      "161. Zambian Kwacha - ZMW.\n",
      "162. Zimbabwean Dollar - ZWL.\n",
      "-----------------------------------------------------------------\n"
     ]
    },
    {
     "name": "stdin",
     "output_type": "stream",
     "text": [
      "Enter a command (q to quit):  rate\n",
      "Enter a base currency code:  USD\n",
      "Enter a currency code to convert to:  INR\n"
     ]
    },
    {
     "name": "stdout",
     "output_type": "stream",
     "text": [
      "USD --> INR = 85.3603.\n"
     ]
    },
    {
     "name": "stdin",
     "output_type": "stream",
     "text": [
      "Enter a command (q to quit):  convert\n",
      "Enter a base currency code:  USD\n",
      "Enter an amount in USD:  INR\n",
      "Enter a currency code to convert to:  50\n"
     ]
    },
    {
     "name": "stdout",
     "output_type": "stream",
     "text": [
      "Invalid Currency/Amount.\n"
     ]
    },
    {
     "name": "stdin",
     "output_type": "stream",
     "text": [
      "Enter a command (q to quit):  convert\n",
      "Enter a base currency code:  USD\n",
      "Enter an amount in USD:  50\n",
      "Enter a currency code to convert to:  INR\n"
     ]
    },
    {
     "name": "stdout",
     "output_type": "stream",
     "text": [
      "50 USD = 4268.015 INR.\n"
     ]
    },
    {
     "name": "stdin",
     "output_type": "stream",
     "text": [
      "Enter a command (q to quit):  add\n"
     ]
    },
    {
     "name": "stdout",
     "output_type": "stream",
     "text": [
      "Unrecognized command!\n"
     ]
    },
    {
     "name": "stdin",
     "output_type": "stream",
     "text": [
      "Enter a command (q to quit):  q\n"
     ]
    }
   ],
   "source": [
    "from requests import get\n",
    "from pprint import PrettyPrinter\n",
    "\n",
    "BASE_URL = \"https://v6.exchangerate-api.com/v6/\"\n",
    "API_KEY = \"e8850f15a6708112ce45f3b7148183007\"                       # add your key\n",
    "p = PrettyPrinter()\n",
    "\n",
    "def cur():\n",
    "    end = f\"/codes\"\n",
    "    data = get(BASE_URL + API_KEY + end).json()\n",
    "    data = data.get('supported_codes','')                           # check, if not exist return ''.\n",
    "    data.sort()\n",
    "    return data\n",
    "\n",
    "def print_cur(currencies):\n",
    "    for  i,(code ,currency) in enumerate(currencies):\n",
    "        name = currency\n",
    "        code = code        \n",
    "        print(f\"{i+1}. {name} - {code}.\")\n",
    "    print(\"-----------------------------------------------------------------\")\n",
    "\n",
    "def conversion_rate(cur1,cur2):\n",
    "    try:\n",
    "        end = f\"/latest/{cur1}\"\n",
    "        data = get(BASE_URL + API_KEY + end).json()['conversion_rates']\n",
    "        print(f\"{cur1} --> {cur2} = {data[cur2]}.\")\n",
    "    except KeyError:\n",
    "        print(\"Invalid Currency.\")\n",
    "\n",
    "def convert(cur1,cur2,amount):\n",
    "    try:\n",
    "        end = f\"/pair/{cur1}/{cur2}/{amount}\"\n",
    "        data = get(BASE_URL + API_KEY + end).json()['conversion_result']\n",
    "        print(f\"{amount} {cur1} = {data} {cur2}.\")\n",
    "    except:\n",
    "        print(\"Invalid Currency/Amount.\")\n",
    "\n",
    "def main():\n",
    "    currencies = cur()\n",
    "\n",
    "    print(\"Welcome to the currency converter!\")\n",
    "    print(\"List - lists the different currencies\")\n",
    "    print(\"Convert - convert from one currency to another\")\n",
    "    print(\"Rate - get the exchange rate of two currencies\")\n",
    "    print()\n",
    "    \n",
    "    while True:\n",
    "        command = input(\"Enter a command (q to quit): \").lower()\n",
    "\n",
    "        if command == \"q\":\n",
    "            break\n",
    "        elif command == \"list\":\n",
    "            print_cur(currencies)\n",
    "        elif command == \"convert\":\n",
    "            currency1 = input(\"Enter a base currency code: \").upper()\n",
    "            amount = input(f\"Enter an amount in {currency1}: \")\n",
    "            currency2 = input(\"Enter a currency code to convert to: \").upper()\n",
    "            convert(currency1, currency2, amount)\n",
    "        elif command == \"rate\":\n",
    "            currency1 = input(\"Enter a base currency code: \").upper()\n",
    "            currency2 = input(\"Enter a currency code to convert to: \").upper()\n",
    "            conversion_rate(currency1, currency2)\n",
    "        else:\n",
    "            print(\"Unrecognized command!\")\n",
    "\n",
    "main()"
   ]
  },
  {
   "cell_type": "markdown",
   "id": "2858de66-736c-48b0-8001-61f144118f0a",
   "metadata": {},
   "source": [
    "#### To Show a Diff Output:"
   ]
  },
  {
   "cell_type": "code",
   "execution_count": 88,
   "id": "8a78c4ec-25d4-4d71-a785-87cf141dd75d",
   "metadata": {},
   "outputs": [
    {
     "name": "stdout",
     "output_type": "stream",
     "text": [
      "Welcome to the currency converter!\n",
      "List - lists the different currencies\n",
      "Convert - convert from one currency to another\n",
      "Rate - get the exchange rate of two currencies\n",
      "\n"
     ]
    },
    {
     "name": "stdin",
     "output_type": "stream",
     "text": [
      "Enter a command (q to quit):  add\n"
     ]
    },
    {
     "name": "stdout",
     "output_type": "stream",
     "text": [
      "Unrecognized command!\n"
     ]
    },
    {
     "name": "stdin",
     "output_type": "stream",
     "text": [
      "Enter a command (q to quit):  rate\n",
      "Enter a base currency code:  ABC\n",
      "Enter a currency code to convert to:  INR\n"
     ]
    },
    {
     "name": "stdout",
     "output_type": "stream",
     "text": [
      "Invalid Currency.\n"
     ]
    },
    {
     "name": "stdin",
     "output_type": "stream",
     "text": [
      "Enter a command (q to quit):  convert\n",
      "Enter a base currency code:  ABC\n",
      "Enter an amount in ABC:  ABC\n",
      "Enter a currency code to convert to:  123\n"
     ]
    },
    {
     "name": "stdout",
     "output_type": "stream",
     "text": [
      "Invalid Currency/Amount.\n"
     ]
    },
    {
     "name": "stdin",
     "output_type": "stream",
     "text": [
      "Enter a command (q to quit):  q\n"
     ]
    }
   ],
   "source": [
    "main()"
   ]
  },
  {
   "cell_type": "markdown",
   "id": "2bfb1319-b2f9-475f-9886-33c0681f82e3",
   "metadata": {},
   "source": [
    "#### ----- THANK YOU -----     \n",
    "DATE : 28 DEC 2024"
   ]
  }
 ],
 "metadata": {
  "kernelspec": {
   "display_name": "Python 3 (ipykernel)",
   "language": "python",
   "name": "python3"
  },
  "language_info": {
   "codemirror_mode": {
    "name": "ipython",
    "version": 3
   },
   "file_extension": ".py",
   "mimetype": "text/x-python",
   "name": "python",
   "nbconvert_exporter": "python",
   "pygments_lexer": "ipython3",
   "version": "3.11.3"
  }
 },
 "nbformat": 4,
 "nbformat_minor": 5
}
