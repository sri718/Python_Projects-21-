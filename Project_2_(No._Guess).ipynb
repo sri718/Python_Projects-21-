{
 "cells": [
  {
   "cell_type": "markdown",
   "id": "b6614a6c-bb63-48dc-b417-d579d1b7fac4",
   "metadata": {},
   "source": [
    "## 2. Number Guessing Game"
   ]
  },
  {
   "cell_type": "markdown",
   "id": "2e758efa-2fe1-4516-ad10-46db6184d033",
   "metadata": {},
   "source": [
    "#### As per Video !!!"
   ]
  },
  {
   "cell_type": "code",
   "execution_count": 8,
   "id": "a1eb0751-799e-4cb4-aeaf-900037bc549a",
   "metadata": {},
   "outputs": [
    {
     "name": "stdout",
     "output_type": "stream",
     "text": [
      "Guess a number (0-15)\n"
     ]
    },
    {
     "name": "stdin",
     "output_type": "stream",
     "text": [
      "Make a Guess :  11\n"
     ]
    },
    {
     "name": "stdout",
     "output_type": "stream",
     "text": [
      "Below\n"
     ]
    },
    {
     "name": "stdin",
     "output_type": "stream",
     "text": [
      "Make a Guess :  10\n"
     ]
    },
    {
     "name": "stdout",
     "output_type": "stream",
     "text": [
      "Below\n"
     ]
    },
    {
     "name": "stdin",
     "output_type": "stream",
     "text": [
      "Make a Guess :  abc\n"
     ]
    },
    {
     "name": "stdout",
     "output_type": "stream",
     "text": [
      "Enter a number !!!\n"
     ]
    },
    {
     "name": "stdin",
     "output_type": "stream",
     "text": [
      "Make a Guess :  5\n"
     ]
    },
    {
     "name": "stdout",
     "output_type": "stream",
     "text": [
      "Below\n"
     ]
    },
    {
     "name": "stdin",
     "output_type": "stream",
     "text": [
      "Make a Guess :  2\n"
     ]
    },
    {
     "name": "stdout",
     "output_type": "stream",
     "text": [
      "Got it in 4 guesses.\n"
     ]
    }
   ],
   "source": [
    "import random\n",
    "\n",
    "print(\"Guess a number (0-15)\")\n",
    "num = random.randint(0,15)\n",
    "guessco = 0\n",
    "while True:\n",
    "    guess = input(\"Make a Guess : \")                        # string input\n",
    "    if guess.isdigit():\n",
    "        guess = int(guess)\n",
    "    else:\n",
    "        print(\"Enter a number !!!\")                         # guess count won't increase\n",
    "        continue\n",
    "    if guess == num:\n",
    "        guessco+=1\n",
    "        break\n",
    "    elif guess > num:\n",
    "        print(\"Below\")\n",
    "        guessco+=1\n",
    "    else:\n",
    "        print(\"Above\")\n",
    "        guessco+=1\n",
    "print(f\"Got it in {guessco} guesses.\")"
   ]
  },
  {
   "cell_type": "markdown",
   "id": "c38e4070-4fc6-497d-861b-cab1e25eb4b4",
   "metadata": {},
   "source": [
    "#### TRY!!!"
   ]
  },
  {
   "cell_type": "code",
   "execution_count": 6,
   "id": "d0435d5d-dd01-4714-87fa-20b2eff0e59b",
   "metadata": {},
   "outputs": [
    {
     "name": "stdout",
     "output_type": "stream",
     "text": [
      "Guess a number (0-15)\n"
     ]
    },
    {
     "name": "stdin",
     "output_type": "stream",
     "text": [
      "Make a Guess :  12\n"
     ]
    },
    {
     "name": "stdout",
     "output_type": "stream",
     "text": [
      "Below\n"
     ]
    },
    {
     "name": "stdin",
     "output_type": "stream",
     "text": [
      "Make a Guess :  10\n"
     ]
    },
    {
     "name": "stdout",
     "output_type": "stream",
     "text": [
      "Above\n"
     ]
    },
    {
     "name": "stdin",
     "output_type": "stream",
     "text": [
      "Make a Guess :  abc\n"
     ]
    },
    {
     "name": "stdout",
     "output_type": "stream",
     "text": [
      "Enter a number !!!\n"
     ]
    },
    {
     "name": "stdin",
     "output_type": "stream",
     "text": [
      "Make a Guess :  11\n"
     ]
    },
    {
     "name": "stdout",
     "output_type": "stream",
     "text": [
      "Got it in 4 guesses.\n"
     ]
    }
   ],
   "source": [
    "import random\n",
    "\n",
    "print(\"Guess a number (0-15)\")\n",
    "num = random.randint(0,15)\n",
    "guessco = 0\n",
    "while True:\n",
    "    try:\n",
    "        guess = int(input(\"Make a Guess : \"))               # integer input\n",
    "    except ValueError:\n",
    "        print(\"Enter a number !!!\")\n",
    "        guessco+=1                                          # guess count won't increase\n",
    "    else:    \n",
    "        if guess == num:\n",
    "            guessco+=1\n",
    "            print(f\"Got it in {guessco} guesses.\")\n",
    "            break\n",
    "        elif guess > num:\n",
    "            print(\"Below\")\n",
    "            guessco+=1\n",
    "        else:\n",
    "            print(\"Above\")\n",
    "            guessco+=1\n"
   ]
  },
  {
   "cell_type": "markdown",
   "id": "40b0c688-1f8e-4f07-b052-d35b058231ea",
   "metadata": {},
   "source": [
    "#### ----- THANK YOU -----     \n",
    "DATE : 16 DEC 2024"
   ]
  }
 ],
 "metadata": {
  "kernelspec": {
   "display_name": "Python 3 (ipykernel)",
   "language": "python",
   "name": "python3"
  },
  "language_info": {
   "codemirror_mode": {
    "name": "ipython",
    "version": 3
   },
   "file_extension": ".py",
   "mimetype": "text/x-python",
   "name": "python",
   "nbconvert_exporter": "python",
   "pygments_lexer": "ipython3",
   "version": "3.11.3"
  }
 },
 "nbformat": 4,
 "nbformat_minor": 5
}
