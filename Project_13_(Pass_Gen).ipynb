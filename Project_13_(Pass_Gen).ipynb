{
 "cells": [
  {
   "cell_type": "markdown",
   "id": "bd9c0c39-c057-437b-8178-2b9cca3af427",
   "metadata": {},
   "source": [
    "## 13. Password Generator:"
   ]
  },
  {
   "cell_type": "markdown",
   "id": "517d75f0-8916-47a7-b23b-3492b2dc61aa",
   "metadata": {},
   "source": [
    "#### As per the Video (with min len):"
   ]
  },
  {
   "cell_type": "code",
   "execution_count": 33,
   "id": "62168e35-616e-48f9-91d1-22ec1ede605b",
   "metadata": {},
   "outputs": [
    {
     "name": "stdin",
     "output_type": "stream",
     "text": [
      "Enter the MIN length of the Password:  7\n",
      "Do you need Numbers in your Passwords (y/n)?  y\n",
      "Do you need Special Characters in your Passwords (y/n)?  y\n"
     ]
    },
    {
     "name": "stdout",
     "output_type": "stream",
     "text": [
      "t,^@il\\qj9\n"
     ]
    }
   ],
   "source": [
    "import random\n",
    "import string                                       # to get all upper and lower char, numbers and special chars.\n",
    "\n",
    "def pass_gen(min_len, nums = True, spec_char = True):\n",
    "    letters = string.ascii_letters\n",
    "    numbers = string.digits\n",
    "    spe_cha = string.punctuation\n",
    "\n",
    "    char = letters\n",
    "    if nums:\n",
    "        char += numbers\n",
    "    if spec_char:\n",
    "        char += spe_cha\n",
    "\n",
    "    passwd = \"\"\n",
    "    nums_check = False\n",
    "    spec_check = False\n",
    "    all_check = False\n",
    "\n",
    "    while not all_check or len(passwd) < min_len:\n",
    "        ch = random.choice(char)\n",
    "        passwd += ch\n",
    "\n",
    "        if ch in numbers:\n",
    "            nums_check = True\n",
    "        elif ch in spe_cha:\n",
    "            spec_check = True\n",
    "\n",
    "        all_check = True                           # if nums and spec not required.\n",
    "        if nums:\n",
    "            all_check = nums_check                 \n",
    "        if spec_char:\n",
    "            all_check = all_check and spec_check   # check True and True\n",
    "\n",
    "    return passwd\n",
    "\n",
    "min_len = int(input(\"Enter the MIN length of the Password: \"))\n",
    "nums = input(\"Do you need Numbers in your Passwords (y/n)? \").lower() == \"y\"\n",
    "spechar = input(\"Do you need Special Characters in your Passwords (y/n)? \").lower() == \"y\"\n",
    "passwd = pass_gen(min_len,nums,spechar)\n",
    "print(passwd)"
   ]
  },
  {
   "cell_type": "markdown",
   "id": "a613157a-2774-484e-88a8-6dea9f03b56e",
   "metadata": {},
   "source": [
    "#### TRY (with exact len):"
   ]
  },
  {
   "cell_type": "code",
   "execution_count": 42,
   "id": "7eae9e3e-ba12-42d9-8091-cb375e254aa1",
   "metadata": {},
   "outputs": [
    {
     "name": "stdin",
     "output_type": "stream",
     "text": [
      "Enter the Length of the Password:  10\n",
      "Do you need Numbers in your Passwords (y/n)?  y\n",
      "Do you need Special Characters in your Passwords (y/n)?  y\n"
     ]
    },
    {
     "name": "stdout",
     "output_type": "stream",
     "text": [
      "P@&ZY=Y7[O\n"
     ]
    }
   ],
   "source": [
    "def gpass():\n",
    "    import random\n",
    "    import string                                       \n",
    "    \n",
    "    def pass_gen(length, nums = True, spec_char = True):\n",
    "        letters = string.ascii_letters\n",
    "        numbers = string.digits\n",
    "        spe_cha = string.punctuation\n",
    "    \n",
    "        char = letters\n",
    "        if nums:\n",
    "            char += numbers\n",
    "        if spec_char:\n",
    "            char += spe_cha\n",
    "    \n",
    "        passwd = []\n",
    "    \n",
    "        if nums:\n",
    "            passwd.append(random.choice(numbers))      # to get one num atleast\n",
    "        if spec_char:\n",
    "            passwd.append(random.choice(spe_cha))\n",
    "    \n",
    "        passwd.extend(random.choice(char) for _ in range(length - len(passwd)))\n",
    "        random.shuffle(passwd)\n",
    "    \n",
    "        return \"\".join(passwd)\n",
    "    \n",
    "    length = int(input(\"Enter the Length of the Password: \"))\n",
    "    nums = input(\"Do you need Numbers in your Passwords (y/n)? \").lower() == \"y\"\n",
    "    spechar = input(\"Do you need Special Characters in your Passwords (y/n)? \").lower() == \"y\"\n",
    "    passwd = pass_gen(length,nums,spechar)\n",
    "    print(passwd)\n",
    "gpass()"
   ]
  },
  {
   "cell_type": "code",
   "execution_count": 43,
   "id": "d5fed9fc-ad0f-495c-83af-d48bd24c8c28",
   "metadata": {},
   "outputs": [
    {
     "name": "stdin",
     "output_type": "stream",
     "text": [
      "Enter the Length of the Password:  10\n",
      "Do you need Numbers in your Passwords (y/n)?  y\n",
      "Do you need Special Characters in your Passwords (y/n)?  n\n"
     ]
    },
    {
     "name": "stdout",
     "output_type": "stream",
     "text": [
      "it1XUt5Axl\n"
     ]
    }
   ],
   "source": [
    "gpass()"
   ]
  },
  {
   "cell_type": "code",
   "execution_count": 44,
   "id": "9e011b31-12a9-4e13-92a0-ed33646f0d49",
   "metadata": {},
   "outputs": [
    {
     "name": "stdin",
     "output_type": "stream",
     "text": [
      "Enter the Length of the Password:  10\n",
      "Do you need Numbers in your Passwords (y/n)?  n\n",
      "Do you need Special Characters in your Passwords (y/n)?  y\n"
     ]
    },
    {
     "name": "stdout",
     "output_type": "stream",
     "text": [
      "oEMc-]`*S#\n"
     ]
    }
   ],
   "source": [
    "gpass()"
   ]
  },
  {
   "cell_type": "markdown",
   "id": "f1801b4e-26d6-45fc-875f-1798a3e58848",
   "metadata": {},
   "source": [
    "#### ----- THANK YOU -----     \n",
    "DATE : 23 DEC 2024"
   ]
  }
 ],
 "metadata": {
  "kernelspec": {
   "display_name": "Python 3 (ipykernel)",
   "language": "python",
   "name": "python3"
  },
  "language_info": {
   "codemirror_mode": {
    "name": "ipython",
    "version": 3
   },
   "file_extension": ".py",
   "mimetype": "text/x-python",
   "name": "python",
   "nbconvert_exporter": "python",
   "pygments_lexer": "ipython3",
   "version": "3.11.3"
  }
 },
 "nbformat": 4,
 "nbformat_minor": 5
}
