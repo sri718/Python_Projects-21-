{
 "cells": [
  {
   "cell_type": "markdown",
   "id": "c44b1688-60c2-42da-adee-60e9c8672e55",
   "metadata": {},
   "source": [
    "## 1. Quiz Game - Easy"
   ]
  },
  {
   "cell_type": "markdown",
   "id": "a078ae7d-319e-4450-a38b-6eddefc81b91",
   "metadata": {},
   "source": [
    "#### As per Video !!!"
   ]
  },
  {
   "cell_type": "code",
   "execution_count": 16,
   "id": "ee88bb94-5c89-4d47-af1b-b80a33c2ece6",
   "metadata": {},
   "outputs": [
    {
     "name": "stdout",
     "output_type": "stream",
     "text": [
      "Welcome to the Quiz\n"
     ]
    },
    {
     "name": "stdin",
     "output_type": "stream",
     "text": [
      "Ready? (y/n) y\n"
     ]
    },
    {
     "name": "stdout",
     "output_type": "stream",
     "text": [
      "Let's Start\n"
     ]
    },
    {
     "name": "stdin",
     "output_type": "stream",
     "text": [
      "Which statement is used to create a loop over a range of numbers?    for\n"
     ]
    },
    {
     "name": "stdout",
     "output_type": "stream",
     "text": [
      "Right!\n"
     ]
    },
    {
     "name": "stdin",
     "output_type": "stream",
     "text": [
      "Which operator is used to check if two values are equal?                       ==\n"
     ]
    },
    {
     "name": "stdout",
     "output_type": "stream",
     "text": [
      "Right!\n"
     ]
    },
    {
     "name": "stdin",
     "output_type": "stream",
     "text": [
      "What keyword is used to define a function in Python?  print\n"
     ]
    },
    {
     "name": "stdout",
     "output_type": "stream",
     "text": [
      "Wrong!\n"
     ]
    },
    {
     "name": "stdin",
     "output_type": "stream",
     "text": [
      "What is the data type for True or False values?                    BOOlean\n"
     ]
    },
    {
     "name": "stdout",
     "output_type": "stream",
     "text": [
      "Right!\n",
      "You have scored 3 points\n"
     ]
    }
   ],
   "source": [
    "print(\"Welcome to the Quiz\")\n",
    "ready = input(\"Ready? (y/n)\").lower()\n",
    "points = 0\n",
    "if ready == 'y':\n",
    "    print(\"Let's Start\")\n",
    "elif ready == 'n':\n",
    "    raise SystemExit(\"Exiting the quiz.\")        # use quit() in normal pyhton terminal\n",
    "else:\n",
    "    print(\"Enter a correct option.\")\n",
    "    raise SystemExit(\"Exiting the quiz.\")\n",
    "ans = input(\"Which statement is used to create a loop over a range of numbers? \").strip().lower()\n",
    "if ans == 'for':\n",
    "    print(\"Right!\")\n",
    "    points +=1\n",
    "else:\n",
    "    print(\"Wrong!\")\n",
    "ans = input(\"Which operator is used to check if two values are equal? \").strip().lower()\n",
    "if ans == '==':\n",
    "    print(\"Right!\")\n",
    "    points +=1\n",
    "else:\n",
    "    print(\"Wrong!\")\n",
    "ans = input(\"What keyword is used to define a function in Python? \").strip().lower()\n",
    "if ans == 'def':\n",
    "    print(\"Right!\")\n",
    "    points +=1\n",
    "else:\n",
    "    print(\"Wrong!\")\n",
    "ans = input(\"What is the data type for True or False values? \").strip().lower()\n",
    "if ans == 'boolean':\n",
    "    print(\"Right!\")\n",
    "    points +=1\n",
    "else:\n",
    "    print(\"Wrong!\")\n",
    "print(f'You have scored {points} points')"
   ]
  },
  {
   "cell_type": "markdown",
   "id": "38a13425-16ed-45c6-99d1-ca9a3ea8231c",
   "metadata": {},
   "source": [
    "#### TRY !!!"
   ]
  },
  {
   "cell_type": "code",
   "execution_count": 19,
   "id": "84fa3f59-9d15-404b-96fc-bf36ff45d66e",
   "metadata": {},
   "outputs": [
    {
     "name": "stdout",
     "output_type": "stream",
     "text": [
      "Welcome to the Quiz\n"
     ]
    },
    {
     "name": "stdin",
     "output_type": "stream",
     "text": [
      "Ready? (y/n) y\n"
     ]
    },
    {
     "name": "stdout",
     "output_type": "stream",
     "text": [
      "Let's Start\n"
     ]
    },
    {
     "name": "stdin",
     "output_type": "stream",
     "text": [
      "Which statement is used to create a loop over a range of numbers?                               for\n"
     ]
    },
    {
     "name": "stdout",
     "output_type": "stream",
     "text": [
      "Right!\n"
     ]
    },
    {
     "name": "stdin",
     "output_type": "stream",
     "text": [
      "Which operator is used to check if two values are equal?  ==\n"
     ]
    },
    {
     "name": "stdout",
     "output_type": "stream",
     "text": [
      "Right!\n"
     ]
    },
    {
     "name": "stdin",
     "output_type": "stream",
     "text": [
      "What keyword is used to define a function in Python?  print\n"
     ]
    },
    {
     "name": "stdout",
     "output_type": "stream",
     "text": [
      "Wrong!\n"
     ]
    },
    {
     "name": "stdin",
     "output_type": "stream",
     "text": [
      "What is the data type for True or False values?  BOOLean\n"
     ]
    },
    {
     "name": "stdout",
     "output_type": "stream",
     "text": [
      "Right!\n",
      "You have scored 3 points\n"
     ]
    }
   ],
   "source": [
    "print(\"Welcome to the Quiz\")\n",
    "ready = input(\"Ready? (y/n)\").lower()\n",
    "points = 0\n",
    "if ready == 'y':\n",
    "    print(\"Let's Start\")\n",
    "elif ready == 'n':\n",
    "    raise SystemExit(\"Exiting the quiz.\")                                             # use quit() in normal pyhton terminal\n",
    "else:\n",
    "    print(\"Enter a correct option.\")\n",
    "    raise SystemExit(\"Exiting the quiz.\")\n",
    "qns = [\n",
    "    \"Which statement is used to create a loop over a range of numbers? \", \n",
    "    \"Which operator is used to check if two values are equal? \", \n",
    "    \"What keyword is used to define a function in Python? \",\n",
    "    \"What is the data type for True or False values? \"\n",
    "]\n",
    "ans = [\"for\",\"==\",\"def\",\"boolean\"]                                                    # use dictionary to combine both qns and ans\n",
    "for i in range(4):\n",
    "    sol = input(qns[i]).lower().strip()\n",
    "    if sol == ans[i]:\n",
    "        print(\"Right!\")\n",
    "        points +=1\n",
    "    else:\n",
    "        print(\"Wrong!\")\n",
    "print(f'You have scored {points} points')"
   ]
  },
  {
   "cell_type": "markdown",
   "id": "48067870-7f26-4ca6-b1b2-b97e72d5ff40",
   "metadata": {},
   "source": [
    "#### ----- THANK YOU -----     \n",
    "DATE : 16 DEC 2024"
   ]
  }
 ],
 "metadata": {
  "kernelspec": {
   "display_name": "Python 3 (ipykernel)",
   "language": "python",
   "name": "python3"
  },
  "language_info": {
   "codemirror_mode": {
    "name": "ipython",
    "version": 3
   },
   "file_extension": ".py",
   "mimetype": "text/x-python",
   "name": "python",
   "nbconvert_exporter": "python",
   "pygments_lexer": "ipython3",
   "version": "3.11.3"
  }
 },
 "nbformat": 4,
 "nbformat_minor": 5
}
