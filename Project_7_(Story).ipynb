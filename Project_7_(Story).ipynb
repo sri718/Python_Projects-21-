{
 "cells": [
  {
   "cell_type": "markdown",
   "id": "4e74e84c-2218-45c7-bdfc-a6db0ae38c36",
   "metadata": {},
   "source": [
    "## 7. Story - Madlibs:"
   ]
  },
  {
   "cell_type": "markdown",
   "id": "18827cf8-cb8b-4d50-9f48-d25b84ec7b8b",
   "metadata": {},
   "source": [
    "#### TRY !!! "
   ]
  },
  {
   "cell_type": "code",
   "execution_count": 25,
   "id": "f3adfaae-f825-4cf9-906a-39e00e098a44",
   "metadata": {},
   "outputs": [
    {
     "name": "stdout",
     "output_type": "stream",
     "text": [
      "Create a Story with your own words !!!\n",
      "\n"
     ]
    },
    {
     "name": "stdin",
     "output_type": "stream",
     "text": [
      "Enter a value for [noun]:  Good Soul\n",
      "Enter a value for [animal]:  ELephant\n",
      "Enter a value for [body of water]:  Pond\n",
      "Enter a value for [adjective]:  Happy\n",
      "Enter a value for [food]:  Banana\n",
      "Enter a value for [number]:  2\n",
      "Enter a value for [verb]:  Dance\n",
      "Enter a value for [object2]:  Shelter\n",
      "Enter a value for [plural noun]:  Birds & Animals\n",
      "Enter a value for [name]:  VALLI\n",
      "Enter a value for [object1]:  Rock\n"
     ]
    },
    {
     "name": "stdout",
     "output_type": "stream",
     "text": [
      "\n",
      "Once upon a time in a Happy forest, there lived a ELephant named VALLI. \n",
      "Every morning, VALLI loved to Dance near the sparkling Pond while humming a tune.\n",
      "\n",
      "One day, VALLI stumbled upon a magical Rock that granted 2 wishes. \n",
      "Overwhelmed with excitement, VALLI decided to wish for a Shelter and a lifetime supply of Banana. \n",
      "Suddenly, the forest was filled with Birds & Animals, and everyone began to Dance in celebration!\n",
      "\n",
      "From that day on, VALLI was known as the Good Soul, and the forest became the happiest place in the world.\n",
      "\n",
      "\n"
     ]
    }
   ],
   "source": [
    "print(\"Create a Story with your own words !!!\\n\")\n",
    "\n",
    "with open(\"Story_P7.txt\",'r') as f:\n",
    "    story = f.read()\n",
    "\n",
    "words= set()                                   # to get unique result.\n",
    "start = '['\n",
    "end = ']'                                      # certain words are enclosed with [] in story.\n",
    "word_s = -1                                    # wors_s can be 0, so starts from -1.\n",
    "word_e = 0\n",
    "for i, char in enumerate(story):               # enumerate() to access both position and text.\n",
    "    if char == start:\n",
    "        word_s = i\n",
    "    if char == end and word_s != -1:\n",
    "        word_e = i                             # or words.append(story[word_s: i+1])\n",
    "        words.add(story[word_s:word_e+1])      # set() - add.()\n",
    "        word_s = -1                            # inside if, so that the starting point is fixed.\n",
    "        word_e = -1\n",
    "\n",
    "ans = {}\n",
    "for word in words:\n",
    "    answer = input(f\"Enter a value for {word}: \")\n",
    "    ans[word] = answer\n",
    "\n",
    "for word, value in ans.items():                     \n",
    "    story = story.replace(word,value)        \n",
    "    # the file must replace it's own file, else only the replacement will be displayed in the ouput when it is loop.\n",
    "    \n",
    "print(f\"\\n{story}\")"
   ]
  },
  {
   "cell_type": "markdown",
   "id": "f62e4299-40fa-434d-a398-8c1dbaef5fd4",
   "metadata": {},
   "source": [
    "#### Story_P7.txt contains:\n",
    "  \n",
    "Once upon a time in a [adjective] forest, there lived a [animal] named [name].   \n",
    "Every morning, [name] loved to [verb] near the sparkling [body of water] while humming a tune.  \n",
    "  \n",
    "One day, [name] stumbled upon a magical [object1] that granted [number] wishes.  \n",
    "Overwhelmed with excitement, [name] decided to wish for a [object2] and a lifetime supply of [food].  \n",
    "Suddenly, the forest was filled with [plural noun], and everyone began to [verb] in celebration!  \n",
    "  \n",
    "From that day on, [name] was known as the [noun], and the forest became the happiest place in the world.\n",
    "\n"
   ]
  },
  {
   "cell_type": "markdown",
   "id": "1c7d5971-46e4-497e-87c6-c499672c6132",
   "metadata": {},
   "source": [
    "#### ----- THANK YOU -----     \n",
    "DATE : 21 DEC 2024"
   ]
  }
 ],
 "metadata": {
  "kernelspec": {
   "display_name": "Python 3 (ipykernel)",
   "language": "python",
   "name": "python3"
  },
  "language_info": {
   "codemirror_mode": {
    "name": "ipython",
    "version": 3
   },
   "file_extension": ".py",
   "mimetype": "text/x-python",
   "name": "python",
   "nbconvert_exporter": "python",
   "pygments_lexer": "ipython3",
   "version": "3.11.3"
  }
 },
 "nbformat": 4,
 "nbformat_minor": 5
}
