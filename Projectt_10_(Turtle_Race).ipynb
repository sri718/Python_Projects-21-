{
 "cells": [
  {
   "cell_type": "markdown",
   "id": "53117aa6-ef64-42dc-b69f-67928ed8b15d",
   "metadata": {},
   "source": [
    "## 10. Turtle Race:"
   ]
  },
  {
   "cell_type": "markdown",
   "id": "5e11761e-5d4b-4261-84d7-6e9718a2de08",
   "metadata": {},
   "source": [
    "#### As per the Video !!!"
   ]
  },
  {
   "cell_type": "code",
   "execution_count": 1,
   "id": "f280b038-d704-4127-bcc1-68613e60922c",
   "metadata": {},
   "outputs": [
    {
     "name": "stdin",
     "output_type": "stream",
     "text": [
      "Enter the number of racers (2-7):  7\n"
     ]
    },
    {
     "name": "stdout",
     "output_type": "stream",
     "text": [
      "Winner of the race is PURPLE.\n"
     ]
    }
   ],
   "source": [
    "import turtle\n",
    "import time\n",
    "import random\n",
    "\n",
    "WID, HIG = 500, 500\n",
    "COL = ['red','yellow','green','blue','black','purple','pink']\n",
    "\n",
    "def get_racers():\n",
    "    while True:\n",
    "        racers = input(\"Enter the number of racers (2-7): \")\n",
    "        if racers.isdigit():\n",
    "            racers = int(racers)\n",
    "            if 2 <= racers <= 7:\n",
    "                return racers\n",
    "            else:\n",
    "                print(\"The number of racers should be between 2 and 10.\")\n",
    "        else:\n",
    "            print(\"Please enter a valid number.\")\n",
    "\n",
    "def create_turtles(colours):\n",
    "    turtles = []\n",
    "    spacing = WID//(len(colours)+1)\n",
    "    for i, colour in enumerate(colours):\n",
    "        racer = turtle.Turtle()\n",
    "        racer.color(colour)\n",
    "        racer.shape('turtle')\n",
    "        racer.left(90)                               # to make turtles face up.\n",
    "        racer.penup()\n",
    "        racer.setpos(-WID//2 + (i+1)*spacing, -HIG//2 + 20)\n",
    "        racer.pendown()\n",
    "        turtles.append(racer)\n",
    "    return turtles\n",
    "\n",
    "def race(colours):\n",
    "    turtles = create_turtles(colours)\n",
    "    while True:\n",
    "        for racer in turtles:\n",
    "            distance = random.randrange(1,21)\n",
    "            racer.forward(distance)\n",
    "            x,y = racer.pos()                      # to get the position of the racer\n",
    "            if y >= HIG//2 - 10:\n",
    "                return colours[turtles.index(racer)]\n",
    "    \n",
    "def init_turtle():\n",
    "    screen = turtle.Screen()\n",
    "    screen.setup(WID, HIG)\n",
    "    screen.title(\"Turtle Racing!!!\")\n",
    "\n",
    "racers = get_racers()\n",
    "init_turtle()\n",
    "random.shuffle(COL)                                 # shuffle the list.\n",
    "colours = COL[:racers]\n",
    "#create_turtles(colours) inside race()\n",
    "winner = race(colours)\n",
    "print(f\"Winner of the race is {winner.upper()}.\")\n",
    "turtle.done()"
   ]
  },
  {
   "cell_type": "markdown",
   "id": "caf70497-123b-4ae1-b85b-6468735cec07",
   "metadata": {},
   "source": [
    "![Turtle Race](https://ibb.co/N9G6ZRY)"
   ]
  },
  {
   "cell_type": "markdown",
   "id": "bfa21f11-66fe-4158-9a31-d94f1bf7c363",
   "metadata": {},
   "source": [
    "#### ----- THANK YOU -----     \n",
    "DATE : 22 DEC 2024"
   ]
  }
 ],
 "metadata": {
  "kernelspec": {
   "display_name": "Python 3 (ipykernel)",
   "language": "python",
   "name": "python3"
  },
  "language_info": {
   "codemirror_mode": {
    "name": "ipython",
    "version": 3
   },
   "file_extension": ".py",
   "mimetype": "text/x-python",
   "name": "python",
   "nbconvert_exporter": "python",
   "pygments_lexer": "ipython3",
   "version": "3.11.3"
  }
 },
 "nbformat": 4,
 "nbformat_minor": 5
}
