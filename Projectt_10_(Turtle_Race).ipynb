{
 "cells": [
  {
   "cell_type": "markdown",
   "id": "4e74e84c-2218-45c7-bdfc-a6db0ae38c36",
   "metadata": {},
   "source": [
    "## 10. Turtle Race:"
   ]
  },
  {
   "cell_type": "markdown",
   "id": "18827cf8-cb8b-4d50-9f48-d25b84ec7b8b",
   "metadata": {},
   "source": [
    "#### As Per Video !!!"
   ]
  },
  {
   "cell_type": "code",
   "execution_count": 1,
   "id": "f3adfaae-f825-4cf9-906a-39e00e098a44",
   "metadata": {},
   "outputs": [
    {
     "name": "stdin",
     "output_type": "stream",
     "text": [
      "Enter the number of racers (2-7):  7\n"
     ]
    },
    {
     "name": "stdout",
     "output_type": "stream",
     "text": [
      "Winner of the race is PURPLE.\n"
     ]
    },
    {
     "name": "stdout",
     "output_type": "stream",
     "text": [
      "\n",
      "Your total bet on 3 lines is $30. GOOD LUCK!!!\n",
      "\n",
      "D | D | A\n",
      "D | D | B\n",
      "A | D | D\n",
      "\n",
      "You WON $0, from line/lines: .\n",
      "Current balance is $70.\n"
     ]
    },
    {
     "name": "stdout",
     "output_type": "stream",
     "text": [
      "\n",
      "Press ENTER to play (q to quit):  \n",
      "Enter the no. of lines to bet (1-3):  3\n",
      "Enter an amount to bet on each line $ 10\n"
     ]
    },
    {
     "name": "stdout",
     "output_type": "stream",
     "text": [
      "\n",
      "Your total bet on 3 lines is $30. GOOD LUCK!!!\n",
      "\n",
      "C | D | C\n",
      "D | D | D\n",
      "B | C | D\n",
      "\n",
      "You WON $20, from line/lines: 2 .\n",
      "Current balance is $60.\n"
     ]
    },
    {
     "name": "stdout",
     "output_type": "stream",
     "text": [
      "\n",
      "Press ENTER to play (q to quit):  \n",
      "Enter the no. of lines to bet (1-3):  3\n",
      "Enter an amount to bet on each line $ 20\n"
     ]
    },
    {
     "name": "stdout",
     "output_type": "stream",
     "text": [
      "\n",
      "Your total bet on 3 lines is $60. GOOD LUCK!!!\n",
      "\n",
      "D | C | B\n",
      "D | B | D\n",
      "B | D | C\n",
      "\n",
      "You WON $0, from line/lines: .\n",
      "Current balance is $0.\n"
     ]
    },
    {
     "name": "stdout",
     "output_type": "stream",
     "text": [
      "\n",
      "Press ENTER to play (q to quit):  \n"
     ]
    },
    {
     "name": "stdout",
     "output_type": "stream",
     "text": [
      "Balance ZERO(0). Restart the Game !!!\n",
      "\n",
      "Yout final Balance is $0\n"
     ]
    }
   ],
   "source": [
    "import turtle\n",
    "import time\n",
    "import random\n",
    "\n",
    "WID, HIG = 500, 500\n",
    "COL = ['red','yellow','green','blue','black','purple','pink']\n",
    "\n",
    "def get_racers():\n",
    "    while True:\n",
    "        racers = input(\"Enter the number of racers (2-7): \")\n",
    "        if racers.isdigit():\n",
    "            racers = int(racers)\n",
    "            if 2 <= racers <= 7:\n",
    "                return racers\n",
    "            else:\n",
    "                print(\"The number of racers should be between 2 and 10.\")\n",
    "        else:\n",
    "            print(\"Please enter a valid number.\")\n",
    "\n",
    "def create_turtles(colours):\n",
    "    turtles = []\n",
    "    spacing = WID//(len(colours)+1)\n",
    "    for i, colour in enumerate(colours):\n",
    "        racer = turtle.Turtle()\n",
    "        racer.color(colour)\n",
    "        racer.shape('turtle')\n",
    "        racer.left(90)                               # to make turtles face up.\n",
    "        racer.penup()\n",
    "        racer.setpos(-WID//2 + (i+1)*spacing, -HIG//2 + 20)\n",
    "        racer.pendown()\n",
    "        turtles.append(racer)\n",
    "    return turtles\n",
    "\n",
    "def race(colours):\n",
    "    turtles = create_turtles(colours)\n",
    "    while True:\n",
    "        for racer in turtles:\n",
    "            distance = random.randrange(1,21)\n",
    "            racer.forward(distance)\n",
    "            x,y = racer.pos()                      # to get the position of the racer\n",
    "            if y >= HIG//2 - 10:\n",
    "                return colours[turtles.index(racer)]\n",
    "    \n",
    "def init_turtle():\n",
    "    screen = turtle.Screen()\n",
    "    screen.setup(WID, HIG)\n",
    "    screen.title(\"Turtle Racing!!!\")\n",
    "\n",
    "racers = get_racers()\n",
    "init_turtle()\n",
    "random.shuffle(COL)                                 # shuffle the list.\n",
    "colours = COL[:racers]\n",
    "#create_turtles(colours) inside race()\n",
    "winner = race(colours)\n",
    "print(f\"Winner of the race is {winner.upper()}.\")\n",
    "turtle.done()"
   ]
  },
  {
   "cell_type": "markdown",
   "id": "d43f0dac-33ea-4d31-b179-0bba3fa9582e",
   "metadata": {},
   "source": [
    "![Turtle Race](Turtle_Race.png)\n"
   ]
  },
  {
   "cell_type": "markdown",
   "id": "1c7d5971-46e4-497e-87c6-c499672c6132",
   "metadata": {},
   "source": [
    "#### ----- THANK YOU -----     \n",
    "DATE : 22 DEC 2024"
   ]
  }
 ],
 "metadata": {
  "kernelspec": {
   "display_name": "Python 3 (ipykernel)",
   "language": "python",
   "name": "python3"
  },
  "language_info": {
   "codemirror_mode": {
    "name": "ipython",
    "version": 3
   },
   "file_extension": ".py",
   "mimetype": "text/x-python",
   "name": "python",
   "nbconvert_exporter": "python",
   "pygments_lexer": "ipython3",
   "version": "3.11.3"
  }
 },
 "nbformat": 4,
 "nbformat_minor": 5
}
