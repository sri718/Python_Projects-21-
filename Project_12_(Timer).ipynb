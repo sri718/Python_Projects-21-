{
 "cells": [
  {
   "cell_type": "markdown",
   "id": "bd9c0c39-c057-437b-8178-2b9cca3af427",
   "metadata": {},
   "source": [
    "## 12. Timer:"
   ]
  },
  {
   "cell_type": "markdown",
   "id": "517d75f0-8916-47a7-b23b-3492b2dc61aa",
   "metadata": {},
   "source": [
    "#### As per the Video:"
   ]
  },
  {
   "cell_type": "code",
   "execution_count": 11,
   "id": "223b2f82-7f44-4851-b605-b6bf2321ab45",
   "metadata": {},
   "outputs": [
    {
     "name": "stdin",
     "output_type": "stream",
     "text": [
      "Enter MINS:  0\n",
      "Enter SECS:  6\n"
     ]
    },
    {
     "name": "stdout",
     "output_type": "stream",
     "text": [
      "\u001b[2J\n",
      "\u001b[H00:05\n",
      "\u001b[H00:04\n",
      "\u001b[H00:03\n",
      "\u001b[H00:02\n",
      "\u001b[H00:01\n",
      "\u001b[H00:00\n"
     ]
    }
   ],
   "source": [
    "from playsound import playsound               # function playsound\n",
    "import time\n",
    "\n",
    "CLEAR = \"\\033[2J\"                             # ANSI code   1. Clear the screen\n",
    "CLEAR_AND_RETURN = \"\\033[H\"                   #             2. Return the cursor\n",
    "                                              # works in cmd or terminal\n",
    "def timer(secs):\n",
    "    time_elapsed = 0\n",
    "    print(CLEAR)\n",
    "    while time_elapsed < secs:\n",
    "        time.sleep(1)\n",
    "        time_elapsed += 1\n",
    "        time_left = secs - time_elapsed\n",
    "        mins_left = time_left // 60\n",
    "        secs_left = time_left % 60\n",
    "        print(F'{CLEAR_AND_RETURN}{mins_left:02d}:{secs_left:02d}')\n",
    "        \n",
    "    playsound(\"Alarm(T)_P12.wav\")             # file is in same DIR.\n",
    "    \n",
    "mins = int(input(\"Enter MINS: \"))\n",
    "secs = int(input(\"Enter SECS: \"))\n",
    "total_secs = mins*60 + secs\n",
    "timer(total_secs)"
   ]
  },
  {
   "cell_type": "markdown",
   "id": "f1801b4e-26d6-45fc-875f-1798a3e58848",
   "metadata": {},
   "source": [
    "#### ----- THANK YOU -----     \n",
    "DATE : 23 DEC 2024"
   ]
  }
 ],
 "metadata": {
  "kernelspec": {
   "display_name": "Python 3 (ipykernel)",
   "language": "python",
   "name": "python3"
  },
  "language_info": {
   "codemirror_mode": {
    "name": "ipython",
    "version": 3
   },
   "file_extension": ".py",
   "mimetype": "text/x-python",
   "name": "python",
   "nbconvert_exporter": "python",
   "pygments_lexer": "ipython3",
   "version": "3.11.3"
  }
 },
 "nbformat": 4,
 "nbformat_minor": 5
}
