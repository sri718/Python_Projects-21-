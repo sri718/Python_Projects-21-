{
 "cells": [
  {
   "cell_type": "markdown",
   "id": "f4e562e7-bb6f-4a05-945d-d5461cf23161",
   "metadata": {},
   "source": [
    "## 19. Mastermind :"
   ]
  },
  {
   "cell_type": "markdown",
   "id": "9fe0d0ce-3834-4a8d-8dd4-c4fc668e83ff",
   "metadata": {},
   "source": [
    "#### As per the video:"
   ]
  },
  {
   "cell_type": "code",
   "execution_count": 5,
   "id": "8ccc78cb-4651-4a9a-aa9c-2c2bdda15092",
   "metadata": {},
   "outputs": [
    {
     "name": "stdout",
     "output_type": "stream",
     "text": [
      "\n",
      "List of COLOURS are: ['W','B','R','O','G','V'].\n"
     ]
    },
    {
     "name": "stdin",
     "output_type": "stream",
     "text": [
      "Enter your guess (Space seperated):  w b r o\n"
     ]
    },
    {
     "name": "stdout",
     "output_type": "stream",
     "text": [
      "Correct Position: 0, Incorrect Position: 2.\n",
      "\n",
      "List of COLOURS are: ['W','B','R','O','G','V'].\n"
     ]
    },
    {
     "name": "stdin",
     "output_type": "stream",
     "text": [
      "Enter your guess (Space seperated):  g v b r\n"
     ]
    },
    {
     "name": "stdout",
     "output_type": "stream",
     "text": [
      "Correct Position: 0, Incorrect Position: 3.\n",
      "\n",
      "List of COLOURS are: ['W','B','R','O','G','V'].\n"
     ]
    },
    {
     "name": "stdin",
     "output_type": "stream",
     "text": [
      "Enter your guess (Space seperated):  o v b r\n"
     ]
    },
    {
     "name": "stdout",
     "output_type": "stream",
     "text": [
      "Correct Position: 0, Incorrect Position: 3.\n",
      "\n",
      "List of COLOURS are: ['W','B','R','O','G','V'].\n"
     ]
    },
    {
     "name": "stdin",
     "output_type": "stream",
     "text": [
      "Enter your guess (Space seperated):  w v b r\n"
     ]
    },
    {
     "name": "stdout",
     "output_type": "stream",
     "text": [
      "Correct Position: 0, Incorrect Position: 2.\n",
      "\n",
      "List of COLOURS are: ['W','B','R','O','G','V'].\n"
     ]
    },
    {
     "name": "stdin",
     "output_type": "stream",
     "text": [
      "Enter your guess (Space seperated):  o g b r\n"
     ]
    },
    {
     "name": "stdout",
     "output_type": "stream",
     "text": [
      "Correct Position: 1, Incorrect Position: 2.\n",
      "\n",
      "List of COLOURS are: ['W','B','R','O','G','V'].\n"
     ]
    },
    {
     "name": "stdin",
     "output_type": "stream",
     "text": [
      "Enter your guess (Space seperated):  v b g o\n"
     ]
    },
    {
     "name": "stdout",
     "output_type": "stream",
     "text": [
      "Correct Position: 1, Incorrect Position: 3.\n",
      "\n",
      "List of COLOURS are: ['W','B','R','O','G','V'].\n"
     ]
    },
    {
     "name": "stdin",
     "output_type": "stream",
     "text": [
      "Enter your guess (Space seperated):  b g o v\n"
     ]
    },
    {
     "name": "stdout",
     "output_type": "stream",
     "text": [
      "Correct Position: 2, Incorrect Position: 2.\n",
      "\n",
      "List of COLOURS are: ['W','B','R','O','G','V'].\n"
     ]
    },
    {
     "name": "stdin",
     "output_type": "stream",
     "text": [
      "Enter your guess (Space seperated):  b g v o\n"
     ]
    },
    {
     "name": "stdout",
     "output_type": "stream",
     "text": [
      "Correct Position: 1, Incorrect Position: 3.\n",
      "\n",
      "List of COLOURS are: ['W','B','R','O','G','V'].\n"
     ]
    },
    {
     "name": "stdin",
     "output_type": "stream",
     "text": [
      "Enter your guess (Space seperated):  o g b v\n"
     ]
    },
    {
     "name": "stdout",
     "output_type": "stream",
     "text": [
      "Correct Position: 1, Incorrect Position: 3.\n",
      "\n",
      "List of COLOURS are: ['W','B','R','O','G','V'].\n"
     ]
    },
    {
     "name": "stdin",
     "output_type": "stream",
     "text": [
      "Enter your guess (Space seperated):  v g o b\n"
     ]
    },
    {
     "name": "stdout",
     "output_type": "stream",
     "text": [
      "\n",
      "You have got in 10 gusses.\n",
      "The code was:  V G O B\n"
     ]
    }
   ],
   "source": [
    "import random\n",
    "\n",
    "COLS = ['W','B','R','O','G','B','V']\n",
    "LEN = 4\n",
    "TRIES = 10\n",
    "\n",
    "def gen_code():\n",
    "    code = []\n",
    "\n",
    "    for _ in range(LEN):\n",
    "        col = random.choice(COLS)      # --> it will repeat colour\n",
    "        code.append(col)\n",
    "    #print(code)                       # to check the code\n",
    "\n",
    "    return code\n",
    "    \n",
    "    # c = COLS[:]\n",
    "    # random.shuffle(c)                  --> won't repeat colour\n",
    "    # return c[:LEN]\n",
    "    \n",
    "def guess_code():\n",
    "    while True:\n",
    "        print(\"\\nList of COLOURS are: ['W','B','R','O','G','V'].\")\n",
    "        guess = input(\"Enter your guess (Space seperated): \").upper()\n",
    "        guess = guess.split(\" \")\n",
    "    \n",
    "        if len(guess) != LEN:\n",
    "            print(f\"You must guess {LEN} colours.\")\n",
    "            continue\n",
    "    \n",
    "        for col in guess:\n",
    "            if col not in COLS:\n",
    "                print(f\"Colour '{col}' is INVALID.\")\n",
    "                break\n",
    "        else:\n",
    "            break\n",
    "\n",
    "    return guess\n",
    "    \n",
    "def check(guess, code):\n",
    "    correct_pos = 0\n",
    "    incorrect_pos = 0\n",
    "    colour_count={}\n",
    "\n",
    "    for col in code:\n",
    "        if col not in colour_count:\n",
    "            colour_count[col] = 0\n",
    "        colour_count[col]+=1\n",
    "\n",
    "    for guess_col, code_col in zip(guess, code):\n",
    "        if guess_col == code_col:\n",
    "            colour_count[guess_col]-=1\n",
    "            correct_pos+=1\n",
    "\n",
    "    for guess_col, code_col in zip(guess, code):\n",
    "        if guess_col != code_col:                             \n",
    "            if guess_col in colour_count and colour_count[guess_col] > 0:\n",
    "                colour_count[guess_col]-=1\n",
    "                incorrect_pos+=1\n",
    "\n",
    "    return correct_pos, incorrect_pos\n",
    "\n",
    "def start():\n",
    "    code = gen_code()\n",
    "    for attempts in range(1,TRIES+1):\n",
    "        guess = guess_code()\n",
    "        correct_pos, incorrect_pos = check(guess, code)\n",
    "        \n",
    "        if correct_pos == LEN:\n",
    "            print(f\"\\nYou have got in {attempts} gusses.\")\n",
    "            print(\"The code was: \", *code)\n",
    "            break\n",
    "\n",
    "        print(f\"Correct Position: {correct_pos}, Incorrect Position: {incorrect_pos}.\")\n",
    "        \n",
    "\n",
    "    else:\n",
    "        print(\"\\nYou ran out of tries, the code was: \",*code)\n",
    "\n",
    "start()"
   ]
  },
  {
   "cell_type": "markdown",
   "id": "5556a61e-d660-48c0-b451-72641e14aa78",
   "metadata": {},
   "source": [
    "#### ----- THANK YOU -----     \n",
    "DATE : 31 DEC 2024"
   ]
  }
 ],
 "metadata": {
  "kernelspec": {
   "display_name": "Python 3 (ipykernel)",
   "language": "python",
   "name": "python3"
  },
  "language_info": {
   "codemirror_mode": {
    "name": "ipython",
    "version": 3
   },
   "file_extension": ".py",
   "mimetype": "text/x-python",
   "name": "python",
   "nbconvert_exporter": "python",
   "pygments_lexer": "ipython3",
   "version": "3.11.3"
  }
 },
 "nbformat": 4,
 "nbformat_minor": 5
}
