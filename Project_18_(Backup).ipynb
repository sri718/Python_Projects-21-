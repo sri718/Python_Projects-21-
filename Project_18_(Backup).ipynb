{
 "cells": [
  {
   "cell_type": "markdown",
   "id": "f4e562e7-bb6f-4a05-945d-d5461cf23161",
   "metadata": {},
   "source": [
    "## 18. Automated File/Folder Backup:"
   ]
  },
  {
   "cell_type": "markdown",
   "id": "9fe0d0ce-3834-4a8d-8dd4-c4fc668e83ff",
   "metadata": {},
   "source": [
    "#### As per the video:"
   ]
  },
  {
   "cell_type": "code",
   "execution_count": null,
   "id": "8ccc78cb-4651-4a9a-aa9c-2c2bdda15092",
   "metadata": {},
   "outputs": [
    {
     "name": "stdout",
     "output_type": "stream",
     "text": [
      "File/Folder copied to C:/Users/sriva/OneDrive/Desktop/Backup\\Output_img_28-12-24.\n"
     ]
    }
   ],
   "source": [
    "import os\n",
    "import shutil\n",
    "import datetime\n",
    "import schedule\n",
    "import time\n",
    "\n",
    "\n",
    "src = \"C:/Users/sriva/JupyNote/Python_Projs/Output_img\"\n",
    "des = \"C:/Users/sriva/OneDrive/Desktop/Backup\"\n",
    "l = src.split('/')\n",
    "def copy(src, des):\n",
    "    today = (datetime.date.today()).strftime('%d-%m-%y')\n",
    "    new_des = os.path.join(des,l[-1]+'_'+str(today))\n",
    "    try:\n",
    "        shutil.copytree(src, new_des)\n",
    "        print(f'File/Folder copied to {new_des}.')\n",
    "    except FileExistsError:\n",
    "        print(f'File/Folder already exist in {new_des}.')\n",
    "\n",
    "#schedule.every().day.at(\"22:30\").do(copy) ---> do takes only func name not the parameter so...\n",
    "\n",
    "schedule.every().day.at(\"23:51\").do(lambda: copy(src, des))\n",
    "# it will turn off, if the system turned off. Need to run this program again, or we can use diff method.\n",
    "\n",
    "#or\n",
    "#def l():\n",
    "    #copy(src, des)\n",
    "#schedule.every().day.at(\"22:30\").do(l)\n",
    "\n",
    "while True:\n",
    "    schedule.run_pending()\n",
    "    time.sleep(5)"
   ]
  },
  {
   "cell_type": "markdown",
   "id": "5556a61e-d660-48c0-b451-72641e14aa78",
   "metadata": {},
   "source": [
    "#### ----- THANK YOU -----     \n",
    "DATE : 28 DEC 2024"
   ]
  }
 ],
 "metadata": {
  "kernelspec": {
   "display_name": "Python 3 (ipykernel)",
   "language": "python",
   "name": "python3"
  },
  "language_info": {
   "codemirror_mode": {
    "name": "ipython",
    "version": 3
   },
   "file_extension": ".py",
   "mimetype": "text/x-python",
   "name": "python",
   "nbconvert_exporter": "python",
   "pygments_lexer": "ipython3",
   "version": "3.11.3"
  }
 },
 "nbformat": 4,
 "nbformat_minor": 5
}
